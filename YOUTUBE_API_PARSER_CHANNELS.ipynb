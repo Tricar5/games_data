{
 "cells": [
  {
   "cell_type": "markdown",
   "source": [
    "# Скрипт по сбору данных\n",
    "\n",
    "## Инициализация скрипта"
   ],
   "metadata": {
    "collapsed": false,
    "pycharm": {
     "name": "#%% md\n"
    }
   }
  },
  {
   "cell_type": "code",
   "execution_count": 18,
   "outputs": [],
   "source": [
    "#1\n",
    "# Loading Libraries\n",
    "\n",
    "import pandas as pd\n",
    "import googleapiclient.discovery as api\n",
    "import numpy as np\n",
    "import requests\n",
    "\n",
    "from pathlib import Path\n",
    "import os\n",
    "import yaml\n",
    "import json"
   ],
   "metadata": {
    "collapsed": false,
    "pycharm": {
     "name": "#%%\n"
    }
   }
  },
  {
   "cell_type": "code",
   "execution_count": 19,
   "outputs": [
    {
     "name": "stdout",
     "output_type": "stream",
     "text": [
      "Current Path\n",
      "/Users/andrei/PycharmProjects/DM_Games_Data\n"
     ]
    }
   ],
   "source": [
    "#2\n",
    "\n",
    "# Defining variables\n",
    "\n",
    "# Determine path to the working directory\n",
    "path = Path().parent.resolve()\n",
    "print('Current Path')\n",
    "print(path)\n",
    "\n",
    "# Opening and parsing yaml file\n",
    "\n",
    "cnf_path = str(path) + '/' + 'cnf.yaml'\n",
    "\n",
    "with open(cnf_path, 'r') as f:\n",
    "    config = yaml.load(f, Loader=yaml.FullLoader)"
   ],
   "metadata": {
    "collapsed": false,
    "pycharm": {
     "name": "#%%\n"
    }
   }
  },
  {
   "cell_type": "code",
   "execution_count": 20,
   "outputs": [],
   "source": [
    "#3\n",
    "\n",
    "# Загрузка масок для запросов\n",
    "\n",
    "with open('queries_iter_channels.json', 'r', encoding='utf-8') as f:\n",
    "    queries = json.load(f)"
   ],
   "metadata": {
    "collapsed": false,
    "pycharm": {
     "name": "#%%\n"
    }
   }
  },
  {
   "cell_type": "code",
   "execution_count": 21,
   "outputs": [
    {
     "name": "stdout",
     "output_type": "stream",
     "text": [
      "There are game names to parse \n",
      " ['8-Bit Armies', \"Assassin's Creed Odyssey\", \"Assassin's Creed Origins\", 'Battle Chasers: Nightwar', 'Battleborn', 'Battleborn', 'Battlefield 1', 'Battlefield V', 'Bayonetta', 'Beat Cop', 'Bomber Crew', 'Bomber Crew', 'Call of Duty: Infinite Warfare', 'Call of Duty: WWII', 'Conan Exiles', 'Crashlands', 'Cuphead', 'Danganronpa: Trigger Happy Havoc', 'Dark Souls III', 'Darkest Dungeon', 'Darksiders III', 'Dead Cells', 'Dead Rising 4', 'Deponia Doomsday', 'Destiny 2', 'Destiny 2: Forsaken', 'Deus Ex: Mankind Divided', 'Deus Ex: Mankind Divided', 'Devil Daggers', 'DiRT 4', 'Dishonored 2', 'Dishonored: Death of the Outsider', 'Dragon Ball FighterZ', \"Dragon's Dogma: Dark Arisen\", 'Dungeon Souls', 'Dungeons 3', 'Dying Light', 'Elex', 'Enter the Gungeon', 'F1 2016', 'F1 2017', 'F1 2017', 'F1 2018', 'FIFA 17', 'Fallout 4 VR', 'Far Cry 5', 'Far Cry: Primal', 'Farming Simulator 17', 'Farming Simulator 19', 'Farming Simulator 19', 'Final Fantasy X / X-2 HD Remaster', 'Final Fantasy XII: The Zodiac Age', 'Final Fantasy XIV: Stormblood', 'Final Fantasy XV: Windows Edition', 'Football Manager 2017', 'Football Manager 2018', 'Football Manager 2019', 'Football Manager 2019', 'For Honor', 'Frostpunk', 'God Eater 2: Rage Burst', 'Grim Dawn', 'Half-Life: Alyx', 'Half-Life: Alyx', 'Halo Wars 2', 'Hearts of Iron IV', \"Hellblade: Senua's Sacrifice\", \"Hellblade: Senua's Sacrifice\", \"Hellblade: Senua's Sacrifice\", 'Hitman', 'Hollow Knight', 'Hollow Knight', 'Homefront: The Revolution', 'Hyper Light Drifter', 'Injustice 2', 'Jurassic World Evolution', 'Kingdom Come: Deliverance', 'Kingdom Come: Deliverance', 'Kingdom Come: Deliverance', 'Life is Strange', 'Little Nightmares', 'Mafia III', 'Mass Effect: Andromeda', 'Mighty No. 9', \"Mirror's Edge Catalyst\", 'Mordhau', 'My Time At Portia', 'Need for Speed: Payback', 'Ni no Kuni II: Revenant Kingdom', 'NieR: Automata', \"No Man's Sky\", \"No Man's Sky\", 'Okami HD', 'Ori and the Blind Forest: Definitive Edition', 'Overwatch', \"PLAYERUNKNOWN'S BATTLEGROUNDS\", 'Pillars of Eternity II: Deadfire', 'Planet Coaster', 'Pro Evolution Soccer 2017', 'Pro Evolution Soccer 2018', 'Project CARS 2', 'Quantum Break', 'Resident Evil VII: Biohazard', 'Rise of the Tomb Raider', 'Rocksmith 2014', 'Rust', 'SUPERHOT', 'SUPERHOT VR', 'Shadow Tactics: Blades of the Shogun', \"Sherlock Holmes: The Devil's Daughter\", \"Sid Meier's Civilization VI\", 'Slay the Spire', 'Slime Rancher', 'South Park: The Fractured But Whole', 'SpellForce 3', 'Spintires: MudRunner', 'Stardew Valley', 'Stellaris', 'Street Fighter V', 'Styx: Shards of Darkness', 'Subnautica', 'Sudden Strike 4', 'Sword Art Online: Fatal Bullet', 'Tales of Berseria', 'Tekken 7', 'The Banner Saga 2', 'The Dwarves', 'The Elder Scrolls Online: Morrowind', 'The Elder Scrolls Online: Summerset', 'The Escapists 2', 'The Evil Within 2', 'The Long Dark', 'The Sims 4: Cats & Dogs', 'The Sims 4: City Living', 'The Sims 4: Get Famous', 'The Surge', 'The Technomancer', 'The Turing Test', 'Titanfall 2', \"Tom Clancy's Ghost Recon Wildlands\", \"Tom Clancy's The Division\", 'Total War: Three Kingdoms', 'Total War: WARHAMMER', 'Tyranny', 'Tyranny', 'Vampyr', 'Vanquish', 'Vikings: Wolves of Midgard', 'Warhammer 40,000: Dawn of War III', 'Wolfenstein II: The New Colossus', 'World of Warcraft: Battle for Azeroth', 'World of Warcraft: Legion', 'Yooka-Laylee', 'theHunter: Call of the Wild']\n",
      "\n",
      "There are publisher names to parse\n",
      " ['11 bit studios', '2K Games', 'Activision', 'Bethesda Softworks', 'Bigben Interactive', 'Black Shell Media', 'Blizzard Entertainment', 'Butterscotch Shenanigans', 'Capcom', 'Chucklefish', 'Codemasters', 'Crate Entertainment', 'Curve Digital', 'Daedalic Entertainment', 'Deep Silver', 'Devolver Digital', 'Electronic Arts', 'Facepunch Studios', 'Focus Home Interactive', 'Frontier Developments', 'Hello Games', 'Hinterland Studio Inc.', 'Kalypso Media', 'Konami Digital Entertainment', 'Maximum Games', 'Mega Crit Games', 'Monomi Park', 'Motion Twin', 'Namco Bandai Games', 'Ninja Theory', 'Nordic Games', 'PUBG Corporation', 'Paradox Interactive', 'Rebellion Games', 'Red Hook Studios', 'SUPERHOT Team', 'Sega', 'Soedesco', 'Sorath', 'Spike Chunsoft', 'Square Enix', 'Studio MDHR', 'THQ Nordic', 'Team Cherry', 'Team17 Digital Ltd', 'Team17 Software', 'Triternion', 'Ubisoft', 'Unknown Worlds Entertainment', 'Valve', 'Versus Evil', 'Warhorse Studios', 'Warner Bros. Interactive Entertainment']\n"
     ]
    }
   ],
   "source": [
    "# 4\n",
    "\n",
    "game_names = queries['games']\n",
    "print('There are game names to parse', '\\n', game_names)\n",
    "print()\n",
    "publishers = queries['publishers']\n",
    "print('There are publisher names to parse''\\n',publishers)"
   ],
   "metadata": {
    "collapsed": false,
    "pycharm": {
     "name": "#%%\n"
    }
   }
  },
  {
   "cell_type": "markdown",
   "source": [
    "# Создание клиента запроса"
   ],
   "metadata": {
    "collapsed": false
   }
  },
  {
   "cell_type": "raw",
   "source": [
    "# 5\n",
    "\n",
    "api_b['developerKey'] = # Enter your developer key here"
   ],
   "metadata": {
    "collapsed": false
   }
  },
  {
   "cell_type": "code",
   "execution_count": 22,
   "outputs": [],
   "source": [
    "# 6\n",
    "\n",
    "# Создание обертки над API для работы с поисковыми масками\n",
    "\n",
    "class YoutubeDataCollector(object):\n",
    "\n",
    "    def __init__(self, cl,q_params):\n",
    "        self.params = q_params\n",
    "        self.client = cl\n",
    "\n",
    "    def make_request(self, query):\n",
    "        request = self.client.search().list(q = query,\n",
    "        **self.params)\n",
    "        try:\n",
    "            return request.execute()\n",
    "        except:\n",
    "            return None\n",
    "\n",
    "    def make_iter_request(self, iter_list, add_mask = ''):\n",
    "        \"\"\"\n",
    "\n",
    "        :param iter_list:\n",
    "        :param add_mask:\n",
    "        :return:\n",
    "        \"\"\"\n",
    "\n",
    "        data = pd.DataFrame()\n",
    "\n",
    "        for iter in iter_list:\n",
    "\n",
    "            q = iter + add_mask\n",
    "\n",
    "            response = self.make_request(q)\n",
    "            if response:\n",
    "\n",
    "                tmp = pd.json_normalize(response['items'])\n",
    "                data = pd.concat([data,tmp])\n",
    "                continue\n",
    "\n",
    "            else:\n",
    "                print('Empty_response')\n",
    "\n",
    "        return data\n",
    "\n",
    "    def make_page_request(self):\n",
    "        pass"
   ],
   "metadata": {
    "collapsed": false,
    "pycharm": {
     "name": "#%%\n"
    }
   }
  },
  {
   "cell_type": "markdown",
   "source": [
    "# Базовый запрос"
   ],
   "metadata": {
    "collapsed": false
   }
  },
  {
   "cell_type": "code",
   "execution_count": 23,
   "outputs": [],
   "source": [
    "# 7\n",
    "\n",
    "mask_review = ' & обзор'\n",
    "mask_play =  ' & (прохождение | летсплей | play)'\n"
   ],
   "metadata": {
    "collapsed": false,
    "pycharm": {
     "name": "#%%\n"
    }
   }
  },
  {
   "cell_type": "code",
   "execution_count": 29,
   "outputs": [],
   "source": [
    "# Издательства и их каналы\n",
    "\n",
    "api_b = config['api_client']\n",
    "query_params = config['QueryParams']['channels']\n",
    "\n",
    "# Для издательств лимит по результатам будет достаточен в 10\n",
    "query_params['maxResults']= 10"
   ],
   "metadata": {
    "collapsed": false,
    "pycharm": {
     "name": "#%%\n"
    }
   }
  },
  {
   "cell_type": "code",
   "execution_count": 26,
   "outputs": [],
   "source": [
    "youtube = api.build(**api_b)\n",
    "\n",
    "collector = YoutubeDataCollector(youtube,query_params)"
   ],
   "metadata": {
    "collapsed": false,
    "pycharm": {
     "name": "#%%\n"
    }
   }
  },
  {
   "cell_type": "code",
   "execution_count": 27,
   "outputs": [],
   "source": [
    "\n",
    "\n",
    "response_df = collector.make_iter_request(publishers[:4], add_mask = '')"
   ],
   "metadata": {
    "collapsed": false,
    "pycharm": {
     "name": "#%%\n"
    }
   }
  },
  {
   "cell_type": "code",
   "execution_count": 28,
   "outputs": [
    {
     "data": {
      "text/plain": "                   kind                         etag          id.kind  \\\n0  youtube#searchResult  aYP0SmeDvFVNqbwyfFdAziq0mb4  youtube#channel   \n1  youtube#searchResult  S75cZREShyVn5xE643zQuiB6HnI  youtube#channel   \n2  youtube#searchResult  XeN4P5JEq_q_krPb4iyjRNAECWU  youtube#channel   \n3  youtube#searchResult  6F6VoacYxXUzIX8Z8Pw4tAGzEkA  youtube#channel   \n4  youtube#searchResult  CA7K2k46mFOOwyb5OqHDaEHVBv0  youtube#channel   \n5  youtube#searchResult  N3G32sK6J3uNwTk9tIn1OY7iNfo  youtube#channel   \n6  youtube#searchResult  xzXW8tGoClYC2oohTTg7PooAffg  youtube#channel   \n7  youtube#searchResult  RJRTmJZYMBVOgR1XAaocFn5qPgQ  youtube#channel   \n8  youtube#searchResult  JltyPkUaBrjJYg_9mWM31UTlzww  youtube#channel   \n9  youtube#searchResult  mmqhq15oy-jzxUvvfh18VaScFlo  youtube#channel   \n0  youtube#searchResult  vGe506XK_GkUrULrp_dwgM4_mA8  youtube#channel   \n1  youtube#searchResult  00rUy7MqGrk3WumMV0vf1fIR3BI  youtube#channel   \n2  youtube#searchResult  JFze_MpVr6Uui87M7_DJocu92_U  youtube#channel   \n3  youtube#searchResult  1jhkjIopTnZqRnzGtovAgeeVhRU  youtube#channel   \n4  youtube#searchResult  LCtW16_1y9zSXRqXLV666j_ZNDY  youtube#channel   \n5  youtube#searchResult  MHEnvuPxJaNvP7TavIJtn7AHDTg  youtube#channel   \n6  youtube#searchResult  64sMhQoo37VL4fDqpZSEvs0fppc  youtube#channel   \n7  youtube#searchResult  lu1uUc3AjNmTLYcTnu9UHub3qpQ  youtube#channel   \n8  youtube#searchResult  0VVwoIP3SaNN7NgvVQXMkKkuUKk  youtube#channel   \n9  youtube#searchResult  CXBO4EMv8UPNX7PXmWHnMgiABxQ  youtube#channel   \n0  youtube#searchResult  H8Xohd-CjXjOkXzN6AvZwZpTyH4  youtube#channel   \n1  youtube#searchResult  Bg0iA5Y9K9t40cW8uYOEleNYEaA  youtube#channel   \n2  youtube#searchResult  34Hc-Nxvg1Rcouugw8G_9uYMKqg  youtube#channel   \n3  youtube#searchResult  Uc_0o1P-FQrGqHncpWSeEh76TQM  youtube#channel   \n4  youtube#searchResult  OVeiRR0WNTtcr0o4d93kyQaxXYA  youtube#channel   \n5  youtube#searchResult  RvNlpjAccYKj_4P4bG-3zALjCKA  youtube#channel   \n6  youtube#searchResult  VKyfhzGIErS_Vxa9MXdJTduteU8  youtube#channel   \n7  youtube#searchResult  _49SoiZKwKi_O75S5iG1D4Ub78U  youtube#channel   \n8  youtube#searchResult  criImhWK4EH0IksvR8A00mixV9U  youtube#channel   \n9  youtube#searchResult  y5c_s-poAC7ZmFYFZ0MfUxz3Pwk  youtube#channel   \n0  youtube#searchResult  WBN2Oz1tXf5vhdPEFZnjy0FZm2o  youtube#channel   \n1  youtube#searchResult  _EIJjpofdW8QCbvFjxoShFt9JiI  youtube#channel   \n2  youtube#searchResult  oM2vZFuwPYRpQVWnM8aySoKXheA  youtube#channel   \n3  youtube#searchResult  Ymq1BXNbvRsiQvU2y4g8Hy2gqOY  youtube#channel   \n4  youtube#searchResult  OTNBbIjTeWGeq7YCNiTmwEWXQL8  youtube#channel   \n5  youtube#searchResult  GsPI2BMRmpAZxezc0DUdVcPugNI  youtube#channel   \n6  youtube#searchResult  RHQt_olgrTNdu-fytyHUbCkKHX8  youtube#channel   \n7  youtube#searchResult  2_Quq2oiy557G_3baUoC87mKztc  youtube#channel   \n8  youtube#searchResult  Ei8ahF2cORzN-tmX7xicLL7fHdo  youtube#channel   \n9  youtube#searchResult  aDPc60wyKtUwRiSrD4-KoA2dTwM  youtube#channel   \n\n               id.channelId   snippet.publishedAt         snippet.channelId  \\\n0  UCq2-YS92kRURomhlw2fj7_g  2010-12-06T12:34:20Z  UCq2-YS92kRURomhlw2fj7_g   \n1  UCxQYaOzUx8l5I8BTipZhqmw  2012-02-22T23:01:08Z  UCxQYaOzUx8l5I8BTipZhqmw   \n2  UCeUgIQ-qNv8SabDbPuaPtgQ  2017-02-08T10:13:38Z  UCeUgIQ-qNv8SabDbPuaPtgQ   \n3  UC3PkpMBNfeTxEzYhpJrVPwA  2012-05-14T19:30:47Z  UC3PkpMBNfeTxEzYhpJrVPwA   \n4  UCG78X91v6huh5Wm6Ay0eq3g  2016-01-03T15:52:07Z  UCG78X91v6huh5Wm6Ay0eq3g   \n5  UCsSA0U5KychQochrGibyafw  2016-10-11T11:46:14Z  UCsSA0U5KychQochrGibyafw   \n6  UC9-9DNoVstZ-uSD_KDC0RHQ  2013-01-05T00:31:19Z  UC9-9DNoVstZ-uSD_KDC0RHQ   \n7  UCsfgc4LirS1i7HTam6DPvkg  2014-11-20T15:55:40Z  UCsfgc4LirS1i7HTam6DPvkg   \n8  UCR-LhAKxp44WO_ZTTwYNyIQ  2014-11-30T15:13:36Z  UCR-LhAKxp44WO_ZTTwYNyIQ   \n9  UCKfLod7MgZC9XzHix3L_vRQ  2019-05-27T20:36:15Z  UCKfLod7MgZC9XzHix3L_vRQ   \n0  UC0SBn2zaskenN1hl_PCtQWw  2006-09-19T03:53:41Z  UC0SBn2zaskenN1hl_PCtQWw   \n1  UCTeawyXRKKj5tylnLeVvw-Q  2020-06-22T18:44:44Z  UCTeawyXRKKj5tylnLeVvw-Q   \n2  UCkwy-u6Lkz83Z0vERbQI7pw  2017-04-09T18:46:32Z  UCkwy-u6Lkz83Z0vERbQI7pw   \n3  UCFG3f1nujZ3iQCctNdFC8_Q  2013-01-27T07:39:30Z  UCFG3f1nujZ3iQCctNdFC8_Q   \n4  UCN-o6yJKuCKn2s_TRq1ISWg  2021-12-17T19:39:16Z  UCN-o6yJKuCKn2s_TRq1ISWg   \n5  UCiPoVVQSXSNzUYaCUGcl8pw  2009-06-10T15:52:32Z  UCiPoVVQSXSNzUYaCUGcl8pw   \n6  UCpzV3E4cU13B_tUCTFYzmdA  2018-07-20T03:50:43Z  UCpzV3E4cU13B_tUCTFYzmdA   \n7  UCvjI_0PjvvL90juE-78HUQA  2016-01-31T11:00:41Z  UCvjI_0PjvvL90juE-78HUQA   \n8  UCAOfB5hs-T-CNeb1DCmqegg  2007-03-24T07:17:08Z  UCAOfB5hs-T-CNeb1DCmqegg   \n9  UCBGLa3dAew6NFx2h-JaNclg  2021-08-08T03:52:45Z  UCBGLa3dAew6NFx2h-JaNclg   \n0  UCqXXBpycrF0q8Q2NHIu5Y3A  2006-11-16T04:34:44Z  UCqXXBpycrF0q8Q2NHIu5Y3A   \n1  UC9YydG57epLqxA9cTzZXSeQ  2006-01-17T14:21:36Z  UC9YydG57epLqxA9cTzZXSeQ   \n2  UCEJAWenWXYQJWV4JcmUcEyg  2013-07-22T19:12:29Z  UCEJAWenWXYQJWV4JcmUcEyg   \n3  UCov8LpcKQM_-WYly2jbsd2Q  2019-06-09T19:16:53Z  UCov8LpcKQM_-WYly2jbsd2Q   \n4  UCxAPWWZlzpI5T-OoudPUwhA  2021-09-14T18:05:23Z  UCxAPWWZlzpI5T-OoudPUwhA   \n5  UC0Wj4kPFYCcUSKt4BmbG9Vw  2014-03-21T01:59:35Z  UC0Wj4kPFYCcUSKt4BmbG9Vw   \n6  UCPaDojxU8rJOGVnpjgNtZRg  2020-01-26T12:31:16Z  UCPaDojxU8rJOGVnpjgNtZRg   \n7  UCet28uRUoTuWZnCadm0U1zw  2013-11-27T20:17:42Z  UCet28uRUoTuWZnCadm0U1zw   \n8  UCqcJAP3FNfQRLzCcUA9XAaQ  2018-02-05T22:36:15Z  UCqcJAP3FNfQRLzCcUA9XAaQ   \n9  UCNxYkUqYw63-9tgrO9ZQfUQ  2019-12-01T09:10:21Z  UCNxYkUqYw63-9tgrO9ZQfUQ   \n0  UCvZHe-SP3xC7DdOk4Ri8QBw  2006-09-19T01:03:31Z  UCvZHe-SP3xC7DdOk4Ri8QBw   \n1  UCVXvM3LgeEzBPQGp8IYbmnA  2016-08-25T15:15:32Z  UCVXvM3LgeEzBPQGp8IYbmnA   \n2  UCp1bIUZMHjZ6Zlyiz3Cka0Q  2018-05-09T10:58:11Z  UCp1bIUZMHjZ6Zlyiz3Cka0Q   \n3  UCrstvVjN1FYwuSm8IPSuyow  2011-05-17T10:46:39Z  UCrstvVjN1FYwuSm8IPSuyow   \n4  UCM86NUrkPmuLJKrYaWUEzqQ  2020-07-09T15:04:56Z  UCM86NUrkPmuLJKrYaWUEzqQ   \n5  UCL1OWQesYwsW0iioeKx-SnA  2008-03-17T21:04:37Z  UCL1OWQesYwsW0iioeKx-SnA   \n6  UCSJdp1elyYppucpUBCUelkQ  2010-04-14T20:44:51Z  UCSJdp1elyYppucpUBCUelkQ   \n7  UCNBXyDn4UzZx0YPvhoHq1Ng  2014-01-02T03:19:00Z  UCNBXyDn4UzZx0YPvhoHq1Ng   \n8  UCYavzl_b7826c5I_I3O3cVA  2015-06-04T18:30:23Z  UCYavzl_b7826c5I_I3O3cVA   \n9  UCkY1htwzYPwc17ISvzZajWw  2015-05-17T00:52:05Z  UCkY1htwzYPwc17ISvzZajWw   \n\n                          snippet.title  \\\n0                        11 bit studios   \n1                      LetsPlayPoRusski   \n2                            BlackKazan   \n3                         Wildzeck SHOW   \n4                              ZalonBit   \n5                           HONEST GAME   \n6                         MoonCakesPlay   \n7                     Digital Sun Games   \n8                          Уголок Дрима   \n9                           Redlack 812   \n0                                    2K   \n1                              2k games   \n2                           [2K] GAMING   \n3                              2K GAMES   \n4                              2k games   \n5                     2K United Kingdom   \n6                              2K GAMES   \n7                              2k Games   \n8                                WWE 2K   \n9                              2K Games   \n0                            Activision   \n1                          Call of Duty   \n2                            activision   \n3                            Activision   \n4                            Activision   \n5                            Activision   \n6                            Activision   \n7                        ..activision..   \n8                   Activision Blizzard   \n9                            Activision   \n0                    Bethesda Softworks   \n1             Bethesda Softworks Russia   \n2              Bethesda Softworks Music   \n3                 Bethesda Softworks UK   \n4                              Bethesda   \n5                   BethesdaGameStudios   \n6  Bethplanet — Игры Bethesda Softworks   \n7                    Bethesda Softworks   \n8                    Bethesda Softworks   \n9                    Bethesda Softworks   \n\n                                 snippet.description  \\\n0  This is official channel of 11 bit studios. He...   \n1  Обзоры, прохождения, критика различных игр. Вс...   \n2  Добро пожаловать На канале Инди Игр. На этом к...   \n3  Привет, братва! Меня зовут Иван и я создаю рол...   \n4  Всім привіт! Мене звати Ігор мій нікнейм Zalon...   \n5  Добро пожаловать на Honest Game - самый честны...   \n6  Всем привет! Меня зовут Сергей! И это канал Mo...   \n7  Indie game Studio. Makers of Moonlighter, a ga...   \n8  Добро пожаловать на игровой канал, ориентирова...   \n9               Oyun Spor Sohbet ve Eğlence Kanalı..   \n0  Founded in 2005, 2K develops and publishes gam...   \n1                                                      \n2  Канал [2K] GAMING представляет видео прохожден...   \n3                                                      \n4                                                      \n5        Official 2K United Kingdom YouTube Channel.   \n6                                                      \n7  2k Games brings to you WWE 2k16 universe mode,...   \n8  The official channel of the WWE 2K sim franchi...   \n9                                                      \n0  Official YouTube account for Activision, publi...   \n1  Welcome to The Official Call of Duty® channel!...   \n2                                                      \n3                                                      \n4                                                      \n5  Olá Meu Nome é Igor.Esse é meu canal de gamepl...   \n6                                                      \n7                                                      \n8                                                      \n9                                                      \n0  Official YouTube channel for Bethesda Softwork...   \n1  Добро пожаловать на официальный русскоязычный ...   \n2                                                      \n3  Welcome to the Official UK YouTube channel for...   \n4  Welcome to the fan YouTube channel for Bethesd...   \n5  Welcome to the Official YouTube page for Bethe...   \n6  Здесь мы будем рассказывать вам об играх Bethe...   \n7                         www.bethesdasoftworks.com.   \n8  Welcome to the Official YouTube channel for Be...   \n9                                                      \n\n                      snippet.thumbnails.default.url  \\\n0  https://yt3.ggpht.com/ytc/AKedOLQW4-g5X6xj1402...   \n1  https://yt3.ggpht.com/ytc/AKedOLRq2rDr5po1JTQI...   \n2  https://yt3.ggpht.com/ytc/AKedOLRohPcGN5v-vzXo...   \n3  https://yt3.ggpht.com/ytc/AKedOLT4QedGhKQef1Q2...   \n4  https://yt3.ggpht.com/ytc/AKedOLRjcL19up-kA-jC...   \n5  https://yt3.ggpht.com/ytc/AKedOLTce4f4xq6tw8rq...   \n6  https://yt3.ggpht.com/ytc/AKedOLSjecO1zUxjIQNj...   \n7  https://yt3.ggpht.com/ytc/AKedOLTYla5nHVWzwj_n...   \n8  https://yt3.ggpht.com/ytc/AKedOLQFM2__gn0OBIXH...   \n9  https://yt3.ggpht.com/ytc/AKedOLTcjuv0reBKS63j...   \n0  https://yt3.ggpht.com/ytc/AKedOLTb0VEqlHZl9q85...   \n1  https://yt3.ggpht.com/ytc/AKedOLTLRGgnZ-rWcDIF...   \n2  https://yt3.ggpht.com/ytc/AKedOLSeSJRgsGUe6PYd...   \n3  https://yt3.ggpht.com/ytc/AKedOLRnzpnG19TjE08i...   \n4  https://yt3.ggpht.com/ytc/AKedOLTC9DKHgAb6ORR2...   \n5  https://yt3.ggpht.com/GYRP7ctAHqS6NvDruCKhlNxn...   \n6  https://yt3.ggpht.com/ytc/AKedOLS6ecQmr_1eojDj...   \n7  https://yt3.ggpht.com/ytc/AKedOLTRPReE1keI_-B3...   \n8  https://yt3.ggpht.com/z-V7NoY8nmFQyUNfQLQqxsD1...   \n9  https://yt3.ggpht.com/WnU6r4dMY8awb63UFnTMV7qA...   \n0  https://yt3.ggpht.com/VSmqyqaaqGrmBLYjhnSyZItU...   \n1  https://yt3.ggpht.com/JqJzxIWIummbTfKAs9z_kh0L...   \n2  https://yt3.ggpht.com/ytc/AKedOLTkJanpht6kVnZB...   \n3  https://yt3.ggpht.com/ytc/AKedOLS_zq032nMie7ni...   \n4  https://yt3.ggpht.com/tAWU7N3lyXu_n7jU1J7JO3c7...   \n5  https://yt3.ggpht.com/ytc/AKedOLROmAdQFr1jtRM1...   \n6  https://yt3.ggpht.com/ytc/AKedOLShPOwbmvY2FThI...   \n7  https://yt3.ggpht.com/ytc/AKedOLTq29XSDve3jHMr...   \n8  https://yt3.ggpht.com/ytc/AKedOLTe_Zb3cLqi_Cnj...   \n9  https://yt3.ggpht.com/ytc/AKedOLRGesDm0Xz8WJF8...   \n0  https://yt3.ggpht.com/ytc/AKedOLSZxYV3cR6QSbtt...   \n1  https://yt3.ggpht.com/x5hAOz6GLE-Rf1f7X7MIW0SK...   \n2  https://yt3.ggpht.com/ytc/AKedOLQNyNGhx3hw3I4L...   \n3  https://yt3.ggpht.com/ytc/AKedOLTc6Xryp3q_FoSn...   \n4  https://yt3.ggpht.com/ytc/AKedOLQKpR1rOy7vC94_...   \n5  https://yt3.ggpht.com/ytc/AKedOLRyYR2ZoWf_mgkD...   \n6  https://yt3.ggpht.com/Fxkggm1GqypYYVyYMoiqxOku...   \n7  https://yt3.ggpht.com/ytc/AKedOLQRSs_vIulWk1Nf...   \n8  https://yt3.ggpht.com/ytc/AKedOLQkg7e6t8Q6M3He...   \n9  https://yt3.ggpht.com/ytc/AKedOLTm3Opoi8EpitlH...   \n\n                       snippet.thumbnails.medium.url  \\\n0  https://yt3.ggpht.com/ytc/AKedOLQW4-g5X6xj1402...   \n1  https://yt3.ggpht.com/ytc/AKedOLRq2rDr5po1JTQI...   \n2  https://yt3.ggpht.com/ytc/AKedOLRohPcGN5v-vzXo...   \n3  https://yt3.ggpht.com/ytc/AKedOLT4QedGhKQef1Q2...   \n4  https://yt3.ggpht.com/ytc/AKedOLRjcL19up-kA-jC...   \n5  https://yt3.ggpht.com/ytc/AKedOLTce4f4xq6tw8rq...   \n6  https://yt3.ggpht.com/ytc/AKedOLSjecO1zUxjIQNj...   \n7  https://yt3.ggpht.com/ytc/AKedOLTYla5nHVWzwj_n...   \n8  https://yt3.ggpht.com/ytc/AKedOLQFM2__gn0OBIXH...   \n9  https://yt3.ggpht.com/ytc/AKedOLTcjuv0reBKS63j...   \n0  https://yt3.ggpht.com/ytc/AKedOLTb0VEqlHZl9q85...   \n1  https://yt3.ggpht.com/ytc/AKedOLTLRGgnZ-rWcDIF...   \n2  https://yt3.ggpht.com/ytc/AKedOLSeSJRgsGUe6PYd...   \n3  https://yt3.ggpht.com/ytc/AKedOLRnzpnG19TjE08i...   \n4  https://yt3.ggpht.com/ytc/AKedOLTC9DKHgAb6ORR2...   \n5  https://yt3.ggpht.com/GYRP7ctAHqS6NvDruCKhlNxn...   \n6  https://yt3.ggpht.com/ytc/AKedOLS6ecQmr_1eojDj...   \n7  https://yt3.ggpht.com/ytc/AKedOLTRPReE1keI_-B3...   \n8  https://yt3.ggpht.com/z-V7NoY8nmFQyUNfQLQqxsD1...   \n9  https://yt3.ggpht.com/WnU6r4dMY8awb63UFnTMV7qA...   \n0  https://yt3.ggpht.com/VSmqyqaaqGrmBLYjhnSyZItU...   \n1  https://yt3.ggpht.com/JqJzxIWIummbTfKAs9z_kh0L...   \n2  https://yt3.ggpht.com/ytc/AKedOLTkJanpht6kVnZB...   \n3  https://yt3.ggpht.com/ytc/AKedOLS_zq032nMie7ni...   \n4  https://yt3.ggpht.com/tAWU7N3lyXu_n7jU1J7JO3c7...   \n5  https://yt3.ggpht.com/ytc/AKedOLROmAdQFr1jtRM1...   \n6  https://yt3.ggpht.com/ytc/AKedOLShPOwbmvY2FThI...   \n7  https://yt3.ggpht.com/ytc/AKedOLTq29XSDve3jHMr...   \n8  https://yt3.ggpht.com/ytc/AKedOLTe_Zb3cLqi_Cnj...   \n9  https://yt3.ggpht.com/ytc/AKedOLRGesDm0Xz8WJF8...   \n0  https://yt3.ggpht.com/ytc/AKedOLSZxYV3cR6QSbtt...   \n1  https://yt3.ggpht.com/x5hAOz6GLE-Rf1f7X7MIW0SK...   \n2  https://yt3.ggpht.com/ytc/AKedOLQNyNGhx3hw3I4L...   \n3  https://yt3.ggpht.com/ytc/AKedOLTc6Xryp3q_FoSn...   \n4  https://yt3.ggpht.com/ytc/AKedOLQKpR1rOy7vC94_...   \n5  https://yt3.ggpht.com/ytc/AKedOLRyYR2ZoWf_mgkD...   \n6  https://yt3.ggpht.com/Fxkggm1GqypYYVyYMoiqxOku...   \n7  https://yt3.ggpht.com/ytc/AKedOLQRSs_vIulWk1Nf...   \n8  https://yt3.ggpht.com/ytc/AKedOLQkg7e6t8Q6M3He...   \n9  https://yt3.ggpht.com/ytc/AKedOLTm3Opoi8EpitlH...   \n\n                         snippet.thumbnails.high.url  \\\n0  https://yt3.ggpht.com/ytc/AKedOLQW4-g5X6xj1402...   \n1  https://yt3.ggpht.com/ytc/AKedOLRq2rDr5po1JTQI...   \n2  https://yt3.ggpht.com/ytc/AKedOLRohPcGN5v-vzXo...   \n3  https://yt3.ggpht.com/ytc/AKedOLT4QedGhKQef1Q2...   \n4  https://yt3.ggpht.com/ytc/AKedOLRjcL19up-kA-jC...   \n5  https://yt3.ggpht.com/ytc/AKedOLTce4f4xq6tw8rq...   \n6  https://yt3.ggpht.com/ytc/AKedOLSjecO1zUxjIQNj...   \n7  https://yt3.ggpht.com/ytc/AKedOLTYla5nHVWzwj_n...   \n8  https://yt3.ggpht.com/ytc/AKedOLQFM2__gn0OBIXH...   \n9  https://yt3.ggpht.com/ytc/AKedOLTcjuv0reBKS63j...   \n0  https://yt3.ggpht.com/ytc/AKedOLTb0VEqlHZl9q85...   \n1  https://yt3.ggpht.com/ytc/AKedOLTLRGgnZ-rWcDIF...   \n2  https://yt3.ggpht.com/ytc/AKedOLSeSJRgsGUe6PYd...   \n3  https://yt3.ggpht.com/ytc/AKedOLRnzpnG19TjE08i...   \n4  https://yt3.ggpht.com/ytc/AKedOLTC9DKHgAb6ORR2...   \n5  https://yt3.ggpht.com/GYRP7ctAHqS6NvDruCKhlNxn...   \n6  https://yt3.ggpht.com/ytc/AKedOLS6ecQmr_1eojDj...   \n7  https://yt3.ggpht.com/ytc/AKedOLTRPReE1keI_-B3...   \n8  https://yt3.ggpht.com/z-V7NoY8nmFQyUNfQLQqxsD1...   \n9  https://yt3.ggpht.com/WnU6r4dMY8awb63UFnTMV7qA...   \n0  https://yt3.ggpht.com/VSmqyqaaqGrmBLYjhnSyZItU...   \n1  https://yt3.ggpht.com/JqJzxIWIummbTfKAs9z_kh0L...   \n2  https://yt3.ggpht.com/ytc/AKedOLTkJanpht6kVnZB...   \n3  https://yt3.ggpht.com/ytc/AKedOLS_zq032nMie7ni...   \n4  https://yt3.ggpht.com/tAWU7N3lyXu_n7jU1J7JO3c7...   \n5  https://yt3.ggpht.com/ytc/AKedOLROmAdQFr1jtRM1...   \n6  https://yt3.ggpht.com/ytc/AKedOLShPOwbmvY2FThI...   \n7  https://yt3.ggpht.com/ytc/AKedOLTq29XSDve3jHMr...   \n8  https://yt3.ggpht.com/ytc/AKedOLTe_Zb3cLqi_Cnj...   \n9  https://yt3.ggpht.com/ytc/AKedOLRGesDm0Xz8WJF8...   \n0  https://yt3.ggpht.com/ytc/AKedOLSZxYV3cR6QSbtt...   \n1  https://yt3.ggpht.com/x5hAOz6GLE-Rf1f7X7MIW0SK...   \n2  https://yt3.ggpht.com/ytc/AKedOLQNyNGhx3hw3I4L...   \n3  https://yt3.ggpht.com/ytc/AKedOLTc6Xryp3q_FoSn...   \n4  https://yt3.ggpht.com/ytc/AKedOLQKpR1rOy7vC94_...   \n5  https://yt3.ggpht.com/ytc/AKedOLRyYR2ZoWf_mgkD...   \n6  https://yt3.ggpht.com/Fxkggm1GqypYYVyYMoiqxOku...   \n7  https://yt3.ggpht.com/ytc/AKedOLQRSs_vIulWk1Nf...   \n8  https://yt3.ggpht.com/ytc/AKedOLQkg7e6t8Q6M3He...   \n9  https://yt3.ggpht.com/ytc/AKedOLTm3Opoi8EpitlH...   \n\n                   snippet.channelTitle snippet.liveBroadcastContent  \\\n0                        11 bit studios                     upcoming   \n1                      LetsPlayPoRusski                     upcoming   \n2                            BlackKazan                         none   \n3                         Wildzeck SHOW                         none   \n4                              ZalonBit                     upcoming   \n5                           HONEST GAME                     upcoming   \n6                         MoonCakesPlay                         none   \n7                     Digital Sun Games                         none   \n8                          Уголок Дрима                         none   \n9                           Redlack 812                         none   \n0                                    2K                     upcoming   \n1                              2k games                         none   \n2                           [2K] GAMING                     upcoming   \n3                              2K GAMES                         none   \n4                              2k games                         none   \n5                     2K United Kingdom                         none   \n6                              2K GAMES                         none   \n7                              2k Games                         none   \n8                                WWE 2K                     upcoming   \n9                              2K Games                         none   \n0                            Activision                     upcoming   \n1                          Call of Duty                         none   \n2                            activision                     upcoming   \n3                            Activision                         none   \n4                            Activision                         none   \n5                            Activision                         none   \n6                            Activision                         none   \n7                        ..activision..                         none   \n8                   Activision Blizzard                         none   \n9                            Activision                         none   \n0                    Bethesda Softworks                     upcoming   \n1             Bethesda Softworks Russia                         none   \n2              Bethesda Softworks Music                         none   \n3                 Bethesda Softworks UK                     upcoming   \n4                              Bethesda                         none   \n5                   BethesdaGameStudios                         none   \n6  Bethplanet — Игры Bethesda Softworks                         none   \n7                    Bethesda Softworks                         none   \n8                    Bethesda Softworks                     upcoming   \n9                    Bethesda Softworks                         none   \n\n    snippet.publishTime  \n0  2010-12-06T12:34:20Z  \n1  2012-02-22T23:01:08Z  \n2  2017-02-08T10:13:38Z  \n3  2012-05-14T19:30:47Z  \n4  2016-01-03T15:52:07Z  \n5  2016-10-11T11:46:14Z  \n6  2013-01-05T00:31:19Z  \n7  2014-11-20T15:55:40Z  \n8  2014-11-30T15:13:36Z  \n9  2019-05-27T20:36:15Z  \n0  2006-09-19T03:53:41Z  \n1  2020-06-22T18:44:44Z  \n2  2017-04-09T18:46:32Z  \n3  2013-01-27T07:39:30Z  \n4  2021-12-17T19:39:16Z  \n5  2009-06-10T15:52:32Z  \n6  2018-07-20T03:50:43Z  \n7  2016-01-31T11:00:41Z  \n8  2007-03-24T07:17:08Z  \n9  2021-08-08T03:52:45Z  \n0  2006-11-16T04:34:44Z  \n1  2006-01-17T14:21:36Z  \n2  2013-07-22T19:12:29Z  \n3  2019-06-09T19:16:53Z  \n4  2021-09-14T18:05:23Z  \n5  2014-03-21T01:59:35Z  \n6  2020-01-26T12:31:16Z  \n7  2013-11-27T20:17:42Z  \n8  2018-02-05T22:36:15Z  \n9  2019-12-01T09:10:21Z  \n0  2006-09-19T01:03:31Z  \n1  2016-08-25T15:15:32Z  \n2  2018-05-09T10:58:11Z  \n3  2011-05-17T10:46:39Z  \n4  2020-07-09T15:04:56Z  \n5  2008-03-17T21:04:37Z  \n6  2010-04-14T20:44:51Z  \n7  2014-01-02T03:19:00Z  \n8  2015-06-04T18:30:23Z  \n9  2015-05-17T00:52:05Z  ",
      "text/html": "<div>\n<style scoped>\n    .dataframe tbody tr th:only-of-type {\n        vertical-align: middle;\n    }\n\n    .dataframe tbody tr th {\n        vertical-align: top;\n    }\n\n    .dataframe thead th {\n        text-align: right;\n    }\n</style>\n<table border=\"1\" class=\"dataframe\">\n  <thead>\n    <tr style=\"text-align: right;\">\n      <th></th>\n      <th>kind</th>\n      <th>etag</th>\n      <th>id.kind</th>\n      <th>id.channelId</th>\n      <th>snippet.publishedAt</th>\n      <th>snippet.channelId</th>\n      <th>snippet.title</th>\n      <th>snippet.description</th>\n      <th>snippet.thumbnails.default.url</th>\n      <th>snippet.thumbnails.medium.url</th>\n      <th>snippet.thumbnails.high.url</th>\n      <th>snippet.channelTitle</th>\n      <th>snippet.liveBroadcastContent</th>\n      <th>snippet.publishTime</th>\n    </tr>\n  </thead>\n  <tbody>\n    <tr>\n      <th>0</th>\n      <td>youtube#searchResult</td>\n      <td>aYP0SmeDvFVNqbwyfFdAziq0mb4</td>\n      <td>youtube#channel</td>\n      <td>UCq2-YS92kRURomhlw2fj7_g</td>\n      <td>2010-12-06T12:34:20Z</td>\n      <td>UCq2-YS92kRURomhlw2fj7_g</td>\n      <td>11 bit studios</td>\n      <td>This is official channel of 11 bit studios. He...</td>\n      <td>https://yt3.ggpht.com/ytc/AKedOLQW4-g5X6xj1402...</td>\n      <td>https://yt3.ggpht.com/ytc/AKedOLQW4-g5X6xj1402...</td>\n      <td>https://yt3.ggpht.com/ytc/AKedOLQW4-g5X6xj1402...</td>\n      <td>11 bit studios</td>\n      <td>upcoming</td>\n      <td>2010-12-06T12:34:20Z</td>\n    </tr>\n    <tr>\n      <th>1</th>\n      <td>youtube#searchResult</td>\n      <td>S75cZREShyVn5xE643zQuiB6HnI</td>\n      <td>youtube#channel</td>\n      <td>UCxQYaOzUx8l5I8BTipZhqmw</td>\n      <td>2012-02-22T23:01:08Z</td>\n      <td>UCxQYaOzUx8l5I8BTipZhqmw</td>\n      <td>LetsPlayPoRusski</td>\n      <td>Обзоры, прохождения, критика различных игр. Вс...</td>\n      <td>https://yt3.ggpht.com/ytc/AKedOLRq2rDr5po1JTQI...</td>\n      <td>https://yt3.ggpht.com/ytc/AKedOLRq2rDr5po1JTQI...</td>\n      <td>https://yt3.ggpht.com/ytc/AKedOLRq2rDr5po1JTQI...</td>\n      <td>LetsPlayPoRusski</td>\n      <td>upcoming</td>\n      <td>2012-02-22T23:01:08Z</td>\n    </tr>\n    <tr>\n      <th>2</th>\n      <td>youtube#searchResult</td>\n      <td>XeN4P5JEq_q_krPb4iyjRNAECWU</td>\n      <td>youtube#channel</td>\n      <td>UCeUgIQ-qNv8SabDbPuaPtgQ</td>\n      <td>2017-02-08T10:13:38Z</td>\n      <td>UCeUgIQ-qNv8SabDbPuaPtgQ</td>\n      <td>BlackKazan</td>\n      <td>Добро пожаловать На канале Инди Игр. На этом к...</td>\n      <td>https://yt3.ggpht.com/ytc/AKedOLRohPcGN5v-vzXo...</td>\n      <td>https://yt3.ggpht.com/ytc/AKedOLRohPcGN5v-vzXo...</td>\n      <td>https://yt3.ggpht.com/ytc/AKedOLRohPcGN5v-vzXo...</td>\n      <td>BlackKazan</td>\n      <td>none</td>\n      <td>2017-02-08T10:13:38Z</td>\n    </tr>\n    <tr>\n      <th>3</th>\n      <td>youtube#searchResult</td>\n      <td>6F6VoacYxXUzIX8Z8Pw4tAGzEkA</td>\n      <td>youtube#channel</td>\n      <td>UC3PkpMBNfeTxEzYhpJrVPwA</td>\n      <td>2012-05-14T19:30:47Z</td>\n      <td>UC3PkpMBNfeTxEzYhpJrVPwA</td>\n      <td>Wildzeck SHOW</td>\n      <td>Привет, братва! Меня зовут Иван и я создаю рол...</td>\n      <td>https://yt3.ggpht.com/ytc/AKedOLT4QedGhKQef1Q2...</td>\n      <td>https://yt3.ggpht.com/ytc/AKedOLT4QedGhKQef1Q2...</td>\n      <td>https://yt3.ggpht.com/ytc/AKedOLT4QedGhKQef1Q2...</td>\n      <td>Wildzeck SHOW</td>\n      <td>none</td>\n      <td>2012-05-14T19:30:47Z</td>\n    </tr>\n    <tr>\n      <th>4</th>\n      <td>youtube#searchResult</td>\n      <td>CA7K2k46mFOOwyb5OqHDaEHVBv0</td>\n      <td>youtube#channel</td>\n      <td>UCG78X91v6huh5Wm6Ay0eq3g</td>\n      <td>2016-01-03T15:52:07Z</td>\n      <td>UCG78X91v6huh5Wm6Ay0eq3g</td>\n      <td>ZalonBit</td>\n      <td>Всім привіт! Мене звати Ігор мій нікнейм Zalon...</td>\n      <td>https://yt3.ggpht.com/ytc/AKedOLRjcL19up-kA-jC...</td>\n      <td>https://yt3.ggpht.com/ytc/AKedOLRjcL19up-kA-jC...</td>\n      <td>https://yt3.ggpht.com/ytc/AKedOLRjcL19up-kA-jC...</td>\n      <td>ZalonBit</td>\n      <td>upcoming</td>\n      <td>2016-01-03T15:52:07Z</td>\n    </tr>\n    <tr>\n      <th>5</th>\n      <td>youtube#searchResult</td>\n      <td>N3G32sK6J3uNwTk9tIn1OY7iNfo</td>\n      <td>youtube#channel</td>\n      <td>UCsSA0U5KychQochrGibyafw</td>\n      <td>2016-10-11T11:46:14Z</td>\n      <td>UCsSA0U5KychQochrGibyafw</td>\n      <td>HONEST GAME</td>\n      <td>Добро пожаловать на Honest Game - самый честны...</td>\n      <td>https://yt3.ggpht.com/ytc/AKedOLTce4f4xq6tw8rq...</td>\n      <td>https://yt3.ggpht.com/ytc/AKedOLTce4f4xq6tw8rq...</td>\n      <td>https://yt3.ggpht.com/ytc/AKedOLTce4f4xq6tw8rq...</td>\n      <td>HONEST GAME</td>\n      <td>upcoming</td>\n      <td>2016-10-11T11:46:14Z</td>\n    </tr>\n    <tr>\n      <th>6</th>\n      <td>youtube#searchResult</td>\n      <td>xzXW8tGoClYC2oohTTg7PooAffg</td>\n      <td>youtube#channel</td>\n      <td>UC9-9DNoVstZ-uSD_KDC0RHQ</td>\n      <td>2013-01-05T00:31:19Z</td>\n      <td>UC9-9DNoVstZ-uSD_KDC0RHQ</td>\n      <td>MoonCakesPlay</td>\n      <td>Всем привет! Меня зовут Сергей! И это канал Mo...</td>\n      <td>https://yt3.ggpht.com/ytc/AKedOLSjecO1zUxjIQNj...</td>\n      <td>https://yt3.ggpht.com/ytc/AKedOLSjecO1zUxjIQNj...</td>\n      <td>https://yt3.ggpht.com/ytc/AKedOLSjecO1zUxjIQNj...</td>\n      <td>MoonCakesPlay</td>\n      <td>none</td>\n      <td>2013-01-05T00:31:19Z</td>\n    </tr>\n    <tr>\n      <th>7</th>\n      <td>youtube#searchResult</td>\n      <td>RJRTmJZYMBVOgR1XAaocFn5qPgQ</td>\n      <td>youtube#channel</td>\n      <td>UCsfgc4LirS1i7HTam6DPvkg</td>\n      <td>2014-11-20T15:55:40Z</td>\n      <td>UCsfgc4LirS1i7HTam6DPvkg</td>\n      <td>Digital Sun Games</td>\n      <td>Indie game Studio. Makers of Moonlighter, a ga...</td>\n      <td>https://yt3.ggpht.com/ytc/AKedOLTYla5nHVWzwj_n...</td>\n      <td>https://yt3.ggpht.com/ytc/AKedOLTYla5nHVWzwj_n...</td>\n      <td>https://yt3.ggpht.com/ytc/AKedOLTYla5nHVWzwj_n...</td>\n      <td>Digital Sun Games</td>\n      <td>none</td>\n      <td>2014-11-20T15:55:40Z</td>\n    </tr>\n    <tr>\n      <th>8</th>\n      <td>youtube#searchResult</td>\n      <td>JltyPkUaBrjJYg_9mWM31UTlzww</td>\n      <td>youtube#channel</td>\n      <td>UCR-LhAKxp44WO_ZTTwYNyIQ</td>\n      <td>2014-11-30T15:13:36Z</td>\n      <td>UCR-LhAKxp44WO_ZTTwYNyIQ</td>\n      <td>Уголок Дрима</td>\n      <td>Добро пожаловать на игровой канал, ориентирова...</td>\n      <td>https://yt3.ggpht.com/ytc/AKedOLQFM2__gn0OBIXH...</td>\n      <td>https://yt3.ggpht.com/ytc/AKedOLQFM2__gn0OBIXH...</td>\n      <td>https://yt3.ggpht.com/ytc/AKedOLQFM2__gn0OBIXH...</td>\n      <td>Уголок Дрима</td>\n      <td>none</td>\n      <td>2014-11-30T15:13:36Z</td>\n    </tr>\n    <tr>\n      <th>9</th>\n      <td>youtube#searchResult</td>\n      <td>mmqhq15oy-jzxUvvfh18VaScFlo</td>\n      <td>youtube#channel</td>\n      <td>UCKfLod7MgZC9XzHix3L_vRQ</td>\n      <td>2019-05-27T20:36:15Z</td>\n      <td>UCKfLod7MgZC9XzHix3L_vRQ</td>\n      <td>Redlack 812</td>\n      <td>Oyun Spor Sohbet ve Eğlence Kanalı..</td>\n      <td>https://yt3.ggpht.com/ytc/AKedOLTcjuv0reBKS63j...</td>\n      <td>https://yt3.ggpht.com/ytc/AKedOLTcjuv0reBKS63j...</td>\n      <td>https://yt3.ggpht.com/ytc/AKedOLTcjuv0reBKS63j...</td>\n      <td>Redlack 812</td>\n      <td>none</td>\n      <td>2019-05-27T20:36:15Z</td>\n    </tr>\n    <tr>\n      <th>0</th>\n      <td>youtube#searchResult</td>\n      <td>vGe506XK_GkUrULrp_dwgM4_mA8</td>\n      <td>youtube#channel</td>\n      <td>UC0SBn2zaskenN1hl_PCtQWw</td>\n      <td>2006-09-19T03:53:41Z</td>\n      <td>UC0SBn2zaskenN1hl_PCtQWw</td>\n      <td>2K</td>\n      <td>Founded in 2005, 2K develops and publishes gam...</td>\n      <td>https://yt3.ggpht.com/ytc/AKedOLTb0VEqlHZl9q85...</td>\n      <td>https://yt3.ggpht.com/ytc/AKedOLTb0VEqlHZl9q85...</td>\n      <td>https://yt3.ggpht.com/ytc/AKedOLTb0VEqlHZl9q85...</td>\n      <td>2K</td>\n      <td>upcoming</td>\n      <td>2006-09-19T03:53:41Z</td>\n    </tr>\n    <tr>\n      <th>1</th>\n      <td>youtube#searchResult</td>\n      <td>00rUy7MqGrk3WumMV0vf1fIR3BI</td>\n      <td>youtube#channel</td>\n      <td>UCTeawyXRKKj5tylnLeVvw-Q</td>\n      <td>2020-06-22T18:44:44Z</td>\n      <td>UCTeawyXRKKj5tylnLeVvw-Q</td>\n      <td>2k games</td>\n      <td></td>\n      <td>https://yt3.ggpht.com/ytc/AKedOLTLRGgnZ-rWcDIF...</td>\n      <td>https://yt3.ggpht.com/ytc/AKedOLTLRGgnZ-rWcDIF...</td>\n      <td>https://yt3.ggpht.com/ytc/AKedOLTLRGgnZ-rWcDIF...</td>\n      <td>2k games</td>\n      <td>none</td>\n      <td>2020-06-22T18:44:44Z</td>\n    </tr>\n    <tr>\n      <th>2</th>\n      <td>youtube#searchResult</td>\n      <td>JFze_MpVr6Uui87M7_DJocu92_U</td>\n      <td>youtube#channel</td>\n      <td>UCkwy-u6Lkz83Z0vERbQI7pw</td>\n      <td>2017-04-09T18:46:32Z</td>\n      <td>UCkwy-u6Lkz83Z0vERbQI7pw</td>\n      <td>[2K] GAMING</td>\n      <td>Канал [2K] GAMING представляет видео прохожден...</td>\n      <td>https://yt3.ggpht.com/ytc/AKedOLSeSJRgsGUe6PYd...</td>\n      <td>https://yt3.ggpht.com/ytc/AKedOLSeSJRgsGUe6PYd...</td>\n      <td>https://yt3.ggpht.com/ytc/AKedOLSeSJRgsGUe6PYd...</td>\n      <td>[2K] GAMING</td>\n      <td>upcoming</td>\n      <td>2017-04-09T18:46:32Z</td>\n    </tr>\n    <tr>\n      <th>3</th>\n      <td>youtube#searchResult</td>\n      <td>1jhkjIopTnZqRnzGtovAgeeVhRU</td>\n      <td>youtube#channel</td>\n      <td>UCFG3f1nujZ3iQCctNdFC8_Q</td>\n      <td>2013-01-27T07:39:30Z</td>\n      <td>UCFG3f1nujZ3iQCctNdFC8_Q</td>\n      <td>2K GAMES</td>\n      <td></td>\n      <td>https://yt3.ggpht.com/ytc/AKedOLRnzpnG19TjE08i...</td>\n      <td>https://yt3.ggpht.com/ytc/AKedOLRnzpnG19TjE08i...</td>\n      <td>https://yt3.ggpht.com/ytc/AKedOLRnzpnG19TjE08i...</td>\n      <td>2K GAMES</td>\n      <td>none</td>\n      <td>2013-01-27T07:39:30Z</td>\n    </tr>\n    <tr>\n      <th>4</th>\n      <td>youtube#searchResult</td>\n      <td>LCtW16_1y9zSXRqXLV666j_ZNDY</td>\n      <td>youtube#channel</td>\n      <td>UCN-o6yJKuCKn2s_TRq1ISWg</td>\n      <td>2021-12-17T19:39:16Z</td>\n      <td>UCN-o6yJKuCKn2s_TRq1ISWg</td>\n      <td>2k games</td>\n      <td></td>\n      <td>https://yt3.ggpht.com/ytc/AKedOLTC9DKHgAb6ORR2...</td>\n      <td>https://yt3.ggpht.com/ytc/AKedOLTC9DKHgAb6ORR2...</td>\n      <td>https://yt3.ggpht.com/ytc/AKedOLTC9DKHgAb6ORR2...</td>\n      <td>2k games</td>\n      <td>none</td>\n      <td>2021-12-17T19:39:16Z</td>\n    </tr>\n    <tr>\n      <th>5</th>\n      <td>youtube#searchResult</td>\n      <td>MHEnvuPxJaNvP7TavIJtn7AHDTg</td>\n      <td>youtube#channel</td>\n      <td>UCiPoVVQSXSNzUYaCUGcl8pw</td>\n      <td>2009-06-10T15:52:32Z</td>\n      <td>UCiPoVVQSXSNzUYaCUGcl8pw</td>\n      <td>2K United Kingdom</td>\n      <td>Official 2K United Kingdom YouTube Channel.</td>\n      <td>https://yt3.ggpht.com/GYRP7ctAHqS6NvDruCKhlNxn...</td>\n      <td>https://yt3.ggpht.com/GYRP7ctAHqS6NvDruCKhlNxn...</td>\n      <td>https://yt3.ggpht.com/GYRP7ctAHqS6NvDruCKhlNxn...</td>\n      <td>2K United Kingdom</td>\n      <td>none</td>\n      <td>2009-06-10T15:52:32Z</td>\n    </tr>\n    <tr>\n      <th>6</th>\n      <td>youtube#searchResult</td>\n      <td>64sMhQoo37VL4fDqpZSEvs0fppc</td>\n      <td>youtube#channel</td>\n      <td>UCpzV3E4cU13B_tUCTFYzmdA</td>\n      <td>2018-07-20T03:50:43Z</td>\n      <td>UCpzV3E4cU13B_tUCTFYzmdA</td>\n      <td>2K GAMES</td>\n      <td></td>\n      <td>https://yt3.ggpht.com/ytc/AKedOLS6ecQmr_1eojDj...</td>\n      <td>https://yt3.ggpht.com/ytc/AKedOLS6ecQmr_1eojDj...</td>\n      <td>https://yt3.ggpht.com/ytc/AKedOLS6ecQmr_1eojDj...</td>\n      <td>2K GAMES</td>\n      <td>none</td>\n      <td>2018-07-20T03:50:43Z</td>\n    </tr>\n    <tr>\n      <th>7</th>\n      <td>youtube#searchResult</td>\n      <td>lu1uUc3AjNmTLYcTnu9UHub3qpQ</td>\n      <td>youtube#channel</td>\n      <td>UCvjI_0PjvvL90juE-78HUQA</td>\n      <td>2016-01-31T11:00:41Z</td>\n      <td>UCvjI_0PjvvL90juE-78HUQA</td>\n      <td>2k Games</td>\n      <td>2k Games brings to you WWE 2k16 universe mode,...</td>\n      <td>https://yt3.ggpht.com/ytc/AKedOLTRPReE1keI_-B3...</td>\n      <td>https://yt3.ggpht.com/ytc/AKedOLTRPReE1keI_-B3...</td>\n      <td>https://yt3.ggpht.com/ytc/AKedOLTRPReE1keI_-B3...</td>\n      <td>2k Games</td>\n      <td>none</td>\n      <td>2016-01-31T11:00:41Z</td>\n    </tr>\n    <tr>\n      <th>8</th>\n      <td>youtube#searchResult</td>\n      <td>0VVwoIP3SaNN7NgvVQXMkKkuUKk</td>\n      <td>youtube#channel</td>\n      <td>UCAOfB5hs-T-CNeb1DCmqegg</td>\n      <td>2007-03-24T07:17:08Z</td>\n      <td>UCAOfB5hs-T-CNeb1DCmqegg</td>\n      <td>WWE 2K</td>\n      <td>The official channel of the WWE 2K sim franchi...</td>\n      <td>https://yt3.ggpht.com/z-V7NoY8nmFQyUNfQLQqxsD1...</td>\n      <td>https://yt3.ggpht.com/z-V7NoY8nmFQyUNfQLQqxsD1...</td>\n      <td>https://yt3.ggpht.com/z-V7NoY8nmFQyUNfQLQqxsD1...</td>\n      <td>WWE 2K</td>\n      <td>upcoming</td>\n      <td>2007-03-24T07:17:08Z</td>\n    </tr>\n    <tr>\n      <th>9</th>\n      <td>youtube#searchResult</td>\n      <td>CXBO4EMv8UPNX7PXmWHnMgiABxQ</td>\n      <td>youtube#channel</td>\n      <td>UCBGLa3dAew6NFx2h-JaNclg</td>\n      <td>2021-08-08T03:52:45Z</td>\n      <td>UCBGLa3dAew6NFx2h-JaNclg</td>\n      <td>2K Games</td>\n      <td></td>\n      <td>https://yt3.ggpht.com/WnU6r4dMY8awb63UFnTMV7qA...</td>\n      <td>https://yt3.ggpht.com/WnU6r4dMY8awb63UFnTMV7qA...</td>\n      <td>https://yt3.ggpht.com/WnU6r4dMY8awb63UFnTMV7qA...</td>\n      <td>2K Games</td>\n      <td>none</td>\n      <td>2021-08-08T03:52:45Z</td>\n    </tr>\n    <tr>\n      <th>0</th>\n      <td>youtube#searchResult</td>\n      <td>H8Xohd-CjXjOkXzN6AvZwZpTyH4</td>\n      <td>youtube#channel</td>\n      <td>UCqXXBpycrF0q8Q2NHIu5Y3A</td>\n      <td>2006-11-16T04:34:44Z</td>\n      <td>UCqXXBpycrF0q8Q2NHIu5Y3A</td>\n      <td>Activision</td>\n      <td>Official YouTube account for Activision, publi...</td>\n      <td>https://yt3.ggpht.com/VSmqyqaaqGrmBLYjhnSyZItU...</td>\n      <td>https://yt3.ggpht.com/VSmqyqaaqGrmBLYjhnSyZItU...</td>\n      <td>https://yt3.ggpht.com/VSmqyqaaqGrmBLYjhnSyZItU...</td>\n      <td>Activision</td>\n      <td>upcoming</td>\n      <td>2006-11-16T04:34:44Z</td>\n    </tr>\n    <tr>\n      <th>1</th>\n      <td>youtube#searchResult</td>\n      <td>Bg0iA5Y9K9t40cW8uYOEleNYEaA</td>\n      <td>youtube#channel</td>\n      <td>UC9YydG57epLqxA9cTzZXSeQ</td>\n      <td>2006-01-17T14:21:36Z</td>\n      <td>UC9YydG57epLqxA9cTzZXSeQ</td>\n      <td>Call of Duty</td>\n      <td>Welcome to The Official Call of Duty® channel!...</td>\n      <td>https://yt3.ggpht.com/JqJzxIWIummbTfKAs9z_kh0L...</td>\n      <td>https://yt3.ggpht.com/JqJzxIWIummbTfKAs9z_kh0L...</td>\n      <td>https://yt3.ggpht.com/JqJzxIWIummbTfKAs9z_kh0L...</td>\n      <td>Call of Duty</td>\n      <td>none</td>\n      <td>2006-01-17T14:21:36Z</td>\n    </tr>\n    <tr>\n      <th>2</th>\n      <td>youtube#searchResult</td>\n      <td>34Hc-Nxvg1Rcouugw8G_9uYMKqg</td>\n      <td>youtube#channel</td>\n      <td>UCEJAWenWXYQJWV4JcmUcEyg</td>\n      <td>2013-07-22T19:12:29Z</td>\n      <td>UCEJAWenWXYQJWV4JcmUcEyg</td>\n      <td>activision</td>\n      <td></td>\n      <td>https://yt3.ggpht.com/ytc/AKedOLTkJanpht6kVnZB...</td>\n      <td>https://yt3.ggpht.com/ytc/AKedOLTkJanpht6kVnZB...</td>\n      <td>https://yt3.ggpht.com/ytc/AKedOLTkJanpht6kVnZB...</td>\n      <td>activision</td>\n      <td>upcoming</td>\n      <td>2013-07-22T19:12:29Z</td>\n    </tr>\n    <tr>\n      <th>3</th>\n      <td>youtube#searchResult</td>\n      <td>Uc_0o1P-FQrGqHncpWSeEh76TQM</td>\n      <td>youtube#channel</td>\n      <td>UCov8LpcKQM_-WYly2jbsd2Q</td>\n      <td>2019-06-09T19:16:53Z</td>\n      <td>UCov8LpcKQM_-WYly2jbsd2Q</td>\n      <td>Activision</td>\n      <td></td>\n      <td>https://yt3.ggpht.com/ytc/AKedOLS_zq032nMie7ni...</td>\n      <td>https://yt3.ggpht.com/ytc/AKedOLS_zq032nMie7ni...</td>\n      <td>https://yt3.ggpht.com/ytc/AKedOLS_zq032nMie7ni...</td>\n      <td>Activision</td>\n      <td>none</td>\n      <td>2019-06-09T19:16:53Z</td>\n    </tr>\n    <tr>\n      <th>4</th>\n      <td>youtube#searchResult</td>\n      <td>OVeiRR0WNTtcr0o4d93kyQaxXYA</td>\n      <td>youtube#channel</td>\n      <td>UCxAPWWZlzpI5T-OoudPUwhA</td>\n      <td>2021-09-14T18:05:23Z</td>\n      <td>UCxAPWWZlzpI5T-OoudPUwhA</td>\n      <td>Activision</td>\n      <td></td>\n      <td>https://yt3.ggpht.com/tAWU7N3lyXu_n7jU1J7JO3c7...</td>\n      <td>https://yt3.ggpht.com/tAWU7N3lyXu_n7jU1J7JO3c7...</td>\n      <td>https://yt3.ggpht.com/tAWU7N3lyXu_n7jU1J7JO3c7...</td>\n      <td>Activision</td>\n      <td>none</td>\n      <td>2021-09-14T18:05:23Z</td>\n    </tr>\n    <tr>\n      <th>5</th>\n      <td>youtube#searchResult</td>\n      <td>RvNlpjAccYKj_4P4bG-3zALjCKA</td>\n      <td>youtube#channel</td>\n      <td>UC0Wj4kPFYCcUSKt4BmbG9Vw</td>\n      <td>2014-03-21T01:59:35Z</td>\n      <td>UC0Wj4kPFYCcUSKt4BmbG9Vw</td>\n      <td>Activision</td>\n      <td>Olá Meu Nome é Igor.Esse é meu canal de gamepl...</td>\n      <td>https://yt3.ggpht.com/ytc/AKedOLROmAdQFr1jtRM1...</td>\n      <td>https://yt3.ggpht.com/ytc/AKedOLROmAdQFr1jtRM1...</td>\n      <td>https://yt3.ggpht.com/ytc/AKedOLROmAdQFr1jtRM1...</td>\n      <td>Activision</td>\n      <td>none</td>\n      <td>2014-03-21T01:59:35Z</td>\n    </tr>\n    <tr>\n      <th>6</th>\n      <td>youtube#searchResult</td>\n      <td>VKyfhzGIErS_Vxa9MXdJTduteU8</td>\n      <td>youtube#channel</td>\n      <td>UCPaDojxU8rJOGVnpjgNtZRg</td>\n      <td>2020-01-26T12:31:16Z</td>\n      <td>UCPaDojxU8rJOGVnpjgNtZRg</td>\n      <td>Activision</td>\n      <td></td>\n      <td>https://yt3.ggpht.com/ytc/AKedOLShPOwbmvY2FThI...</td>\n      <td>https://yt3.ggpht.com/ytc/AKedOLShPOwbmvY2FThI...</td>\n      <td>https://yt3.ggpht.com/ytc/AKedOLShPOwbmvY2FThI...</td>\n      <td>Activision</td>\n      <td>none</td>\n      <td>2020-01-26T12:31:16Z</td>\n    </tr>\n    <tr>\n      <th>7</th>\n      <td>youtube#searchResult</td>\n      <td>_49SoiZKwKi_O75S5iG1D4Ub78U</td>\n      <td>youtube#channel</td>\n      <td>UCet28uRUoTuWZnCadm0U1zw</td>\n      <td>2013-11-27T20:17:42Z</td>\n      <td>UCet28uRUoTuWZnCadm0U1zw</td>\n      <td>..activision..</td>\n      <td></td>\n      <td>https://yt3.ggpht.com/ytc/AKedOLTq29XSDve3jHMr...</td>\n      <td>https://yt3.ggpht.com/ytc/AKedOLTq29XSDve3jHMr...</td>\n      <td>https://yt3.ggpht.com/ytc/AKedOLTq29XSDve3jHMr...</td>\n      <td>..activision..</td>\n      <td>none</td>\n      <td>2013-11-27T20:17:42Z</td>\n    </tr>\n    <tr>\n      <th>8</th>\n      <td>youtube#searchResult</td>\n      <td>criImhWK4EH0IksvR8A00mixV9U</td>\n      <td>youtube#channel</td>\n      <td>UCqcJAP3FNfQRLzCcUA9XAaQ</td>\n      <td>2018-02-05T22:36:15Z</td>\n      <td>UCqcJAP3FNfQRLzCcUA9XAaQ</td>\n      <td>Activision Blizzard</td>\n      <td></td>\n      <td>https://yt3.ggpht.com/ytc/AKedOLTe_Zb3cLqi_Cnj...</td>\n      <td>https://yt3.ggpht.com/ytc/AKedOLTe_Zb3cLqi_Cnj...</td>\n      <td>https://yt3.ggpht.com/ytc/AKedOLTe_Zb3cLqi_Cnj...</td>\n      <td>Activision Blizzard</td>\n      <td>none</td>\n      <td>2018-02-05T22:36:15Z</td>\n    </tr>\n    <tr>\n      <th>9</th>\n      <td>youtube#searchResult</td>\n      <td>y5c_s-poAC7ZmFYFZ0MfUxz3Pwk</td>\n      <td>youtube#channel</td>\n      <td>UCNxYkUqYw63-9tgrO9ZQfUQ</td>\n      <td>2019-12-01T09:10:21Z</td>\n      <td>UCNxYkUqYw63-9tgrO9ZQfUQ</td>\n      <td>Activision</td>\n      <td></td>\n      <td>https://yt3.ggpht.com/ytc/AKedOLRGesDm0Xz8WJF8...</td>\n      <td>https://yt3.ggpht.com/ytc/AKedOLRGesDm0Xz8WJF8...</td>\n      <td>https://yt3.ggpht.com/ytc/AKedOLRGesDm0Xz8WJF8...</td>\n      <td>Activision</td>\n      <td>none</td>\n      <td>2019-12-01T09:10:21Z</td>\n    </tr>\n    <tr>\n      <th>0</th>\n      <td>youtube#searchResult</td>\n      <td>WBN2Oz1tXf5vhdPEFZnjy0FZm2o</td>\n      <td>youtube#channel</td>\n      <td>UCvZHe-SP3xC7DdOk4Ri8QBw</td>\n      <td>2006-09-19T01:03:31Z</td>\n      <td>UCvZHe-SP3xC7DdOk4Ri8QBw</td>\n      <td>Bethesda Softworks</td>\n      <td>Official YouTube channel for Bethesda Softwork...</td>\n      <td>https://yt3.ggpht.com/ytc/AKedOLSZxYV3cR6QSbtt...</td>\n      <td>https://yt3.ggpht.com/ytc/AKedOLSZxYV3cR6QSbtt...</td>\n      <td>https://yt3.ggpht.com/ytc/AKedOLSZxYV3cR6QSbtt...</td>\n      <td>Bethesda Softworks</td>\n      <td>upcoming</td>\n      <td>2006-09-19T01:03:31Z</td>\n    </tr>\n    <tr>\n      <th>1</th>\n      <td>youtube#searchResult</td>\n      <td>_EIJjpofdW8QCbvFjxoShFt9JiI</td>\n      <td>youtube#channel</td>\n      <td>UCVXvM3LgeEzBPQGp8IYbmnA</td>\n      <td>2016-08-25T15:15:32Z</td>\n      <td>UCVXvM3LgeEzBPQGp8IYbmnA</td>\n      <td>Bethesda Softworks Russia</td>\n      <td>Добро пожаловать на официальный русскоязычный ...</td>\n      <td>https://yt3.ggpht.com/x5hAOz6GLE-Rf1f7X7MIW0SK...</td>\n      <td>https://yt3.ggpht.com/x5hAOz6GLE-Rf1f7X7MIW0SK...</td>\n      <td>https://yt3.ggpht.com/x5hAOz6GLE-Rf1f7X7MIW0SK...</td>\n      <td>Bethesda Softworks Russia</td>\n      <td>none</td>\n      <td>2016-08-25T15:15:32Z</td>\n    </tr>\n    <tr>\n      <th>2</th>\n      <td>youtube#searchResult</td>\n      <td>oM2vZFuwPYRpQVWnM8aySoKXheA</td>\n      <td>youtube#channel</td>\n      <td>UCp1bIUZMHjZ6Zlyiz3Cka0Q</td>\n      <td>2018-05-09T10:58:11Z</td>\n      <td>UCp1bIUZMHjZ6Zlyiz3Cka0Q</td>\n      <td>Bethesda Softworks Music</td>\n      <td></td>\n      <td>https://yt3.ggpht.com/ytc/AKedOLQNyNGhx3hw3I4L...</td>\n      <td>https://yt3.ggpht.com/ytc/AKedOLQNyNGhx3hw3I4L...</td>\n      <td>https://yt3.ggpht.com/ytc/AKedOLQNyNGhx3hw3I4L...</td>\n      <td>Bethesda Softworks Music</td>\n      <td>none</td>\n      <td>2018-05-09T10:58:11Z</td>\n    </tr>\n    <tr>\n      <th>3</th>\n      <td>youtube#searchResult</td>\n      <td>Ymq1BXNbvRsiQvU2y4g8Hy2gqOY</td>\n      <td>youtube#channel</td>\n      <td>UCrstvVjN1FYwuSm8IPSuyow</td>\n      <td>2011-05-17T10:46:39Z</td>\n      <td>UCrstvVjN1FYwuSm8IPSuyow</td>\n      <td>Bethesda Softworks UK</td>\n      <td>Welcome to the Official UK YouTube channel for...</td>\n      <td>https://yt3.ggpht.com/ytc/AKedOLTc6Xryp3q_FoSn...</td>\n      <td>https://yt3.ggpht.com/ytc/AKedOLTc6Xryp3q_FoSn...</td>\n      <td>https://yt3.ggpht.com/ytc/AKedOLTc6Xryp3q_FoSn...</td>\n      <td>Bethesda Softworks UK</td>\n      <td>upcoming</td>\n      <td>2011-05-17T10:46:39Z</td>\n    </tr>\n    <tr>\n      <th>4</th>\n      <td>youtube#searchResult</td>\n      <td>OTNBbIjTeWGeq7YCNiTmwEWXQL8</td>\n      <td>youtube#channel</td>\n      <td>UCM86NUrkPmuLJKrYaWUEzqQ</td>\n      <td>2020-07-09T15:04:56Z</td>\n      <td>UCM86NUrkPmuLJKrYaWUEzqQ</td>\n      <td>Bethesda</td>\n      <td>Welcome to the fan YouTube channel for Bethesd...</td>\n      <td>https://yt3.ggpht.com/ytc/AKedOLQKpR1rOy7vC94_...</td>\n      <td>https://yt3.ggpht.com/ytc/AKedOLQKpR1rOy7vC94_...</td>\n      <td>https://yt3.ggpht.com/ytc/AKedOLQKpR1rOy7vC94_...</td>\n      <td>Bethesda</td>\n      <td>none</td>\n      <td>2020-07-09T15:04:56Z</td>\n    </tr>\n    <tr>\n      <th>5</th>\n      <td>youtube#searchResult</td>\n      <td>GsPI2BMRmpAZxezc0DUdVcPugNI</td>\n      <td>youtube#channel</td>\n      <td>UCL1OWQesYwsW0iioeKx-SnA</td>\n      <td>2008-03-17T21:04:37Z</td>\n      <td>UCL1OWQesYwsW0iioeKx-SnA</td>\n      <td>BethesdaGameStudios</td>\n      <td>Welcome to the Official YouTube page for Bethe...</td>\n      <td>https://yt3.ggpht.com/ytc/AKedOLRyYR2ZoWf_mgkD...</td>\n      <td>https://yt3.ggpht.com/ytc/AKedOLRyYR2ZoWf_mgkD...</td>\n      <td>https://yt3.ggpht.com/ytc/AKedOLRyYR2ZoWf_mgkD...</td>\n      <td>BethesdaGameStudios</td>\n      <td>none</td>\n      <td>2008-03-17T21:04:37Z</td>\n    </tr>\n    <tr>\n      <th>6</th>\n      <td>youtube#searchResult</td>\n      <td>RHQt_olgrTNdu-fytyHUbCkKHX8</td>\n      <td>youtube#channel</td>\n      <td>UCSJdp1elyYppucpUBCUelkQ</td>\n      <td>2010-04-14T20:44:51Z</td>\n      <td>UCSJdp1elyYppucpUBCUelkQ</td>\n      <td>Bethplanet — Игры Bethesda Softworks</td>\n      <td>Здесь мы будем рассказывать вам об играх Bethe...</td>\n      <td>https://yt3.ggpht.com/Fxkggm1GqypYYVyYMoiqxOku...</td>\n      <td>https://yt3.ggpht.com/Fxkggm1GqypYYVyYMoiqxOku...</td>\n      <td>https://yt3.ggpht.com/Fxkggm1GqypYYVyYMoiqxOku...</td>\n      <td>Bethplanet — Игры Bethesda Softworks</td>\n      <td>none</td>\n      <td>2010-04-14T20:44:51Z</td>\n    </tr>\n    <tr>\n      <th>7</th>\n      <td>youtube#searchResult</td>\n      <td>2_Quq2oiy557G_3baUoC87mKztc</td>\n      <td>youtube#channel</td>\n      <td>UCNBXyDn4UzZx0YPvhoHq1Ng</td>\n      <td>2014-01-02T03:19:00Z</td>\n      <td>UCNBXyDn4UzZx0YPvhoHq1Ng</td>\n      <td>Bethesda Softworks</td>\n      <td>www.bethesdasoftworks.com.</td>\n      <td>https://yt3.ggpht.com/ytc/AKedOLQRSs_vIulWk1Nf...</td>\n      <td>https://yt3.ggpht.com/ytc/AKedOLQRSs_vIulWk1Nf...</td>\n      <td>https://yt3.ggpht.com/ytc/AKedOLQRSs_vIulWk1Nf...</td>\n      <td>Bethesda Softworks</td>\n      <td>none</td>\n      <td>2014-01-02T03:19:00Z</td>\n    </tr>\n    <tr>\n      <th>8</th>\n      <td>youtube#searchResult</td>\n      <td>Ei8ahF2cORzN-tmX7xicLL7fHdo</td>\n      <td>youtube#channel</td>\n      <td>UCYavzl_b7826c5I_I3O3cVA</td>\n      <td>2015-06-04T18:30:23Z</td>\n      <td>UCYavzl_b7826c5I_I3O3cVA</td>\n      <td>Bethesda Softworks</td>\n      <td>Welcome to the Official YouTube channel for Be...</td>\n      <td>https://yt3.ggpht.com/ytc/AKedOLQkg7e6t8Q6M3He...</td>\n      <td>https://yt3.ggpht.com/ytc/AKedOLQkg7e6t8Q6M3He...</td>\n      <td>https://yt3.ggpht.com/ytc/AKedOLQkg7e6t8Q6M3He...</td>\n      <td>Bethesda Softworks</td>\n      <td>upcoming</td>\n      <td>2015-06-04T18:30:23Z</td>\n    </tr>\n    <tr>\n      <th>9</th>\n      <td>youtube#searchResult</td>\n      <td>aDPc60wyKtUwRiSrD4-KoA2dTwM</td>\n      <td>youtube#channel</td>\n      <td>UCkY1htwzYPwc17ISvzZajWw</td>\n      <td>2015-05-17T00:52:05Z</td>\n      <td>UCkY1htwzYPwc17ISvzZajWw</td>\n      <td>Bethesda Softworks</td>\n      <td></td>\n      <td>https://yt3.ggpht.com/ytc/AKedOLTm3Opoi8EpitlH...</td>\n      <td>https://yt3.ggpht.com/ytc/AKedOLTm3Opoi8EpitlH...</td>\n      <td>https://yt3.ggpht.com/ytc/AKedOLTm3Opoi8EpitlH...</td>\n      <td>Bethesda Softworks</td>\n      <td>none</td>\n      <td>2015-05-17T00:52:05Z</td>\n    </tr>\n  </tbody>\n</table>\n</div>"
     },
     "execution_count": 28,
     "metadata": {},
     "output_type": "execute_result"
    }
   ],
   "source": [
    "response_df"
   ],
   "metadata": {
    "collapsed": false,
    "pycharm": {
     "name": "#%%\n"
    }
   }
  },
  {
   "cell_type": "code",
   "execution_count": 30,
   "outputs": [],
   "source": [
    "# Издания и обзоры\n",
    "\n",
    "api_b = config['api_client']\n",
    "query_params = config['QueryParams']['channels']\n",
    "\n",
    "# Для обзоров лимит по результатам будет достаточен в 10\n",
    "query_params['maxResults']= 50\n",
    "\n",
    "youtube = api.build(**api_b)\n",
    "\n",
    "collector = YoutubeDataCollector(youtube,query_params)\n"
   ],
   "metadata": {
    "collapsed": false,
    "pycharm": {
     "name": "#%%\n"
    }
   }
  },
  {
   "cell_type": "code",
   "execution_count": 31,
   "outputs": [
    {
     "data": {
      "text/plain": "                    kind                         etag          id.kind  \\\n0   youtube#searchResult  e8P_hxMnv-Pr8GbHC6ta7hPyGPo  youtube#channel   \n1   youtube#searchResult  Yw1JT_aTay4AdNlCc1RXiIrikJw  youtube#channel   \n2   youtube#searchResult  BPTZ5Zlnsc-Zyu0bjYzxEBaX_1M  youtube#channel   \n3   youtube#searchResult  nwythi0e5tKsBsGfcB6IVMfI1mA  youtube#channel   \n4   youtube#searchResult  Yb8qPHiuMXRJ1ry3dWUXQM_qZLM  youtube#channel   \n..                   ...                          ...              ...   \n45  youtube#searchResult  I21684Tlh4W0mE6IA9ruVAXeBdE  youtube#channel   \n46  youtube#searchResult  44q7rkIEIRY0Np0kNAQmMZZ-dOg  youtube#channel   \n47  youtube#searchResult  zFnJ1GQKWqdgJ7H6bnJrI7CyPwg  youtube#channel   \n48  youtube#searchResult  xYtGKddwbXChwyJUQSzYrXQMxRo  youtube#channel   \n49  youtube#searchResult  xc5JoYv_RmcK7e2aNPQ5oqwvXv4  youtube#channel   \n\n                id.channelId   snippet.publishedAt         snippet.channelId  \\\n0   UCu07wIgnKDrZbZkVgkhUCbg  2016-04-25T18:03:51Z  UCu07wIgnKDrZbZkVgkhUCbg   \n1   UCels-4bLVjM-Uqr6G38VPxA  2021-05-02T10:12:46Z  UCels-4bLVjM-Uqr6G38VPxA   \n2   UCc-TUBptexwXN_PpgULV5eA  2017-02-03T13:24:36Z  UCc-TUBptexwXN_PpgULV5eA   \n3   UCorkyFoPfQ6uZtl8vRyU1ew  2009-08-14T17:20:47Z  UCorkyFoPfQ6uZtl8vRyU1ew   \n4   UC1sHgkZ4Nk6vyFtteS2nGQQ  2016-07-20T06:58:27Z  UC1sHgkZ4Nk6vyFtteS2nGQQ   \n..                       ...                   ...                       ...   \n45  UC9xa6ikR6fw9TR-Np6DUdAQ  2010-11-03T14:59:33Z  UC9xa6ikR6fw9TR-Np6DUdAQ   \n46  UC15EKIQkLXKe7VlG6nvctyw  2018-12-09T13:03:41Z  UC15EKIQkLXKe7VlG6nvctyw   \n47  UCnGRUpCHxeDmOIG7tmozoBA  2015-03-21T21:37:45Z  UCnGRUpCHxeDmOIG7tmozoBA   \n48  UCmB08z6XksLVVj_YbsujBUg  2013-07-23T15:25:42Z  UCmB08z6XksLVVj_YbsujBUg   \n49  UCBIAwy7guqgAhQq7rdRUBKA  2019-05-14T22:34:44Z  UCBIAwy7guqgAhQq7rdRUBKA   \n\n             snippet.title                                snippet.description  \\\n0                  Ивангай  Ищиш летсплеи тебе сюда а также обзор игр и вс...   \n1       Taco_vender Gaming  Welcome to Taco_vender Gaming! i will be doing...   \n2   Pass2Shock Productions  Иногда ты просто берешь и делаешь. Что делаешь...   \n3         Petroglyph Games  Petroglyph Games, Inc. is a game studio in Las...   \n4                Toxinchik  если ты попалы на мой каналы сразу подпишись Н...   \n..                     ...                                                ...   \n45               PsykoloGG                                                      \n46        Зовите меня Егог                                                      \n47          Game Attention                                                      \n48                 MyxA Tv  Приветствуем вас на нашем канале MyxA TV! Сним...   \n49                TailPlay  Привет друзья! Меня зовут Олег. Люблю играть в...   \n\n                       snippet.thumbnails.default.url  \\\n0   https://yt3.ggpht.com/ytc/AKedOLRTboygKr0-Ua-G...   \n1   https://yt3.ggpht.com/ytc/AKedOLR33uvngtbSSpOt...   \n2   https://yt3.ggpht.com/ytc/AKedOLSNPoXvfk6Wtn0e...   \n3   https://yt3.ggpht.com/ytc/AKedOLQg1ysBtRMoyoNQ...   \n4   https://yt3.ggpht.com/ytc/AKedOLSeP8qjH7VQFphQ...   \n..                                                ...   \n45  https://yt3.ggpht.com/ytc/AKedOLR9Rc5taKq3_dE8...   \n46  https://yt3.ggpht.com/ytc/AKedOLR--hurpnOQm1_w...   \n47  https://yt3.ggpht.com/ytc/AKedOLRh4sVGYxecvKUv...   \n48  https://yt3.ggpht.com/ytc/AKedOLTDV9X7ZDCk-2cQ...   \n49  https://yt3.ggpht.com/ytc/AKedOLQ6fIHylR-2CHTj...   \n\n                        snippet.thumbnails.medium.url  \\\n0   https://yt3.ggpht.com/ytc/AKedOLRTboygKr0-Ua-G...   \n1   https://yt3.ggpht.com/ytc/AKedOLR33uvngtbSSpOt...   \n2   https://yt3.ggpht.com/ytc/AKedOLSNPoXvfk6Wtn0e...   \n3   https://yt3.ggpht.com/ytc/AKedOLQg1ysBtRMoyoNQ...   \n4   https://yt3.ggpht.com/ytc/AKedOLSeP8qjH7VQFphQ...   \n..                                                ...   \n45  https://yt3.ggpht.com/ytc/AKedOLR9Rc5taKq3_dE8...   \n46  https://yt3.ggpht.com/ytc/AKedOLR--hurpnOQm1_w...   \n47  https://yt3.ggpht.com/ytc/AKedOLRh4sVGYxecvKUv...   \n48  https://yt3.ggpht.com/ytc/AKedOLTDV9X7ZDCk-2cQ...   \n49  https://yt3.ggpht.com/ytc/AKedOLQ6fIHylR-2CHTj...   \n\n                          snippet.thumbnails.high.url    snippet.channelTitle  \\\n0   https://yt3.ggpht.com/ytc/AKedOLRTboygKr0-Ua-G...                 Ивангай   \n1   https://yt3.ggpht.com/ytc/AKedOLR33uvngtbSSpOt...      Taco_vender Gaming   \n2   https://yt3.ggpht.com/ytc/AKedOLSNPoXvfk6Wtn0e...  Pass2Shock Productions   \n3   https://yt3.ggpht.com/ytc/AKedOLQg1ysBtRMoyoNQ...        Petroglyph Games   \n4   https://yt3.ggpht.com/ytc/AKedOLSeP8qjH7VQFphQ...               Toxinchik   \n..                                                ...                     ...   \n45  https://yt3.ggpht.com/ytc/AKedOLR9Rc5taKq3_dE8...               PsykoloGG   \n46  https://yt3.ggpht.com/ytc/AKedOLR--hurpnOQm1_w...        Зовите меня Егог   \n47  https://yt3.ggpht.com/ytc/AKedOLRh4sVGYxecvKUv...          Game Attention   \n48  https://yt3.ggpht.com/ytc/AKedOLTDV9X7ZDCk-2cQ...                 MyxA Tv   \n49  https://yt3.ggpht.com/ytc/AKedOLQ6fIHylR-2CHTj...                TailPlay   \n\n   snippet.liveBroadcastContent   snippet.publishTime  \n0                      upcoming  2016-04-25T18:03:51Z  \n1                          none  2021-05-02T10:12:46Z  \n2                          none  2017-02-03T13:24:36Z  \n3                          none  2009-08-14T17:20:47Z  \n4                          none  2016-07-20T06:58:27Z  \n..                          ...                   ...  \n45                         none  2010-11-03T14:59:33Z  \n46                         none  2018-12-09T13:03:41Z  \n47                     upcoming  2015-03-21T21:37:45Z  \n48                         none  2013-07-23T15:25:42Z  \n49                     upcoming  2019-05-14T22:34:44Z  \n\n[100 rows x 14 columns]",
      "text/html": "<div>\n<style scoped>\n    .dataframe tbody tr th:only-of-type {\n        vertical-align: middle;\n    }\n\n    .dataframe tbody tr th {\n        vertical-align: top;\n    }\n\n    .dataframe thead th {\n        text-align: right;\n    }\n</style>\n<table border=\"1\" class=\"dataframe\">\n  <thead>\n    <tr style=\"text-align: right;\">\n      <th></th>\n      <th>kind</th>\n      <th>etag</th>\n      <th>id.kind</th>\n      <th>id.channelId</th>\n      <th>snippet.publishedAt</th>\n      <th>snippet.channelId</th>\n      <th>snippet.title</th>\n      <th>snippet.description</th>\n      <th>snippet.thumbnails.default.url</th>\n      <th>snippet.thumbnails.medium.url</th>\n      <th>snippet.thumbnails.high.url</th>\n      <th>snippet.channelTitle</th>\n      <th>snippet.liveBroadcastContent</th>\n      <th>snippet.publishTime</th>\n    </tr>\n  </thead>\n  <tbody>\n    <tr>\n      <th>0</th>\n      <td>youtube#searchResult</td>\n      <td>e8P_hxMnv-Pr8GbHC6ta7hPyGPo</td>\n      <td>youtube#channel</td>\n      <td>UCu07wIgnKDrZbZkVgkhUCbg</td>\n      <td>2016-04-25T18:03:51Z</td>\n      <td>UCu07wIgnKDrZbZkVgkhUCbg</td>\n      <td>Ивангай</td>\n      <td>Ищиш летсплеи тебе сюда а также обзор игр и вс...</td>\n      <td>https://yt3.ggpht.com/ytc/AKedOLRTboygKr0-Ua-G...</td>\n      <td>https://yt3.ggpht.com/ytc/AKedOLRTboygKr0-Ua-G...</td>\n      <td>https://yt3.ggpht.com/ytc/AKedOLRTboygKr0-Ua-G...</td>\n      <td>Ивангай</td>\n      <td>upcoming</td>\n      <td>2016-04-25T18:03:51Z</td>\n    </tr>\n    <tr>\n      <th>1</th>\n      <td>youtube#searchResult</td>\n      <td>Yw1JT_aTay4AdNlCc1RXiIrikJw</td>\n      <td>youtube#channel</td>\n      <td>UCels-4bLVjM-Uqr6G38VPxA</td>\n      <td>2021-05-02T10:12:46Z</td>\n      <td>UCels-4bLVjM-Uqr6G38VPxA</td>\n      <td>Taco_vender Gaming</td>\n      <td>Welcome to Taco_vender Gaming! i will be doing...</td>\n      <td>https://yt3.ggpht.com/ytc/AKedOLR33uvngtbSSpOt...</td>\n      <td>https://yt3.ggpht.com/ytc/AKedOLR33uvngtbSSpOt...</td>\n      <td>https://yt3.ggpht.com/ytc/AKedOLR33uvngtbSSpOt...</td>\n      <td>Taco_vender Gaming</td>\n      <td>none</td>\n      <td>2021-05-02T10:12:46Z</td>\n    </tr>\n    <tr>\n      <th>2</th>\n      <td>youtube#searchResult</td>\n      <td>BPTZ5Zlnsc-Zyu0bjYzxEBaX_1M</td>\n      <td>youtube#channel</td>\n      <td>UCc-TUBptexwXN_PpgULV5eA</td>\n      <td>2017-02-03T13:24:36Z</td>\n      <td>UCc-TUBptexwXN_PpgULV5eA</td>\n      <td>Pass2Shock Productions</td>\n      <td>Иногда ты просто берешь и делаешь. Что делаешь...</td>\n      <td>https://yt3.ggpht.com/ytc/AKedOLSNPoXvfk6Wtn0e...</td>\n      <td>https://yt3.ggpht.com/ytc/AKedOLSNPoXvfk6Wtn0e...</td>\n      <td>https://yt3.ggpht.com/ytc/AKedOLSNPoXvfk6Wtn0e...</td>\n      <td>Pass2Shock Productions</td>\n      <td>none</td>\n      <td>2017-02-03T13:24:36Z</td>\n    </tr>\n    <tr>\n      <th>3</th>\n      <td>youtube#searchResult</td>\n      <td>nwythi0e5tKsBsGfcB6IVMfI1mA</td>\n      <td>youtube#channel</td>\n      <td>UCorkyFoPfQ6uZtl8vRyU1ew</td>\n      <td>2009-08-14T17:20:47Z</td>\n      <td>UCorkyFoPfQ6uZtl8vRyU1ew</td>\n      <td>Petroglyph Games</td>\n      <td>Petroglyph Games, Inc. is a game studio in Las...</td>\n      <td>https://yt3.ggpht.com/ytc/AKedOLQg1ysBtRMoyoNQ...</td>\n      <td>https://yt3.ggpht.com/ytc/AKedOLQg1ysBtRMoyoNQ...</td>\n      <td>https://yt3.ggpht.com/ytc/AKedOLQg1ysBtRMoyoNQ...</td>\n      <td>Petroglyph Games</td>\n      <td>none</td>\n      <td>2009-08-14T17:20:47Z</td>\n    </tr>\n    <tr>\n      <th>4</th>\n      <td>youtube#searchResult</td>\n      <td>Yb8qPHiuMXRJ1ry3dWUXQM_qZLM</td>\n      <td>youtube#channel</td>\n      <td>UC1sHgkZ4Nk6vyFtteS2nGQQ</td>\n      <td>2016-07-20T06:58:27Z</td>\n      <td>UC1sHgkZ4Nk6vyFtteS2nGQQ</td>\n      <td>Toxinchik</td>\n      <td>если ты попалы на мой каналы сразу подпишись Н...</td>\n      <td>https://yt3.ggpht.com/ytc/AKedOLSeP8qjH7VQFphQ...</td>\n      <td>https://yt3.ggpht.com/ytc/AKedOLSeP8qjH7VQFphQ...</td>\n      <td>https://yt3.ggpht.com/ytc/AKedOLSeP8qjH7VQFphQ...</td>\n      <td>Toxinchik</td>\n      <td>none</td>\n      <td>2016-07-20T06:58:27Z</td>\n    </tr>\n    <tr>\n      <th>...</th>\n      <td>...</td>\n      <td>...</td>\n      <td>...</td>\n      <td>...</td>\n      <td>...</td>\n      <td>...</td>\n      <td>...</td>\n      <td>...</td>\n      <td>...</td>\n      <td>...</td>\n      <td>...</td>\n      <td>...</td>\n      <td>...</td>\n      <td>...</td>\n    </tr>\n    <tr>\n      <th>45</th>\n      <td>youtube#searchResult</td>\n      <td>I21684Tlh4W0mE6IA9ruVAXeBdE</td>\n      <td>youtube#channel</td>\n      <td>UC9xa6ikR6fw9TR-Np6DUdAQ</td>\n      <td>2010-11-03T14:59:33Z</td>\n      <td>UC9xa6ikR6fw9TR-Np6DUdAQ</td>\n      <td>PsykoloGG</td>\n      <td></td>\n      <td>https://yt3.ggpht.com/ytc/AKedOLR9Rc5taKq3_dE8...</td>\n      <td>https://yt3.ggpht.com/ytc/AKedOLR9Rc5taKq3_dE8...</td>\n      <td>https://yt3.ggpht.com/ytc/AKedOLR9Rc5taKq3_dE8...</td>\n      <td>PsykoloGG</td>\n      <td>none</td>\n      <td>2010-11-03T14:59:33Z</td>\n    </tr>\n    <tr>\n      <th>46</th>\n      <td>youtube#searchResult</td>\n      <td>44q7rkIEIRY0Np0kNAQmMZZ-dOg</td>\n      <td>youtube#channel</td>\n      <td>UC15EKIQkLXKe7VlG6nvctyw</td>\n      <td>2018-12-09T13:03:41Z</td>\n      <td>UC15EKIQkLXKe7VlG6nvctyw</td>\n      <td>Зовите меня Егог</td>\n      <td></td>\n      <td>https://yt3.ggpht.com/ytc/AKedOLR--hurpnOQm1_w...</td>\n      <td>https://yt3.ggpht.com/ytc/AKedOLR--hurpnOQm1_w...</td>\n      <td>https://yt3.ggpht.com/ytc/AKedOLR--hurpnOQm1_w...</td>\n      <td>Зовите меня Егог</td>\n      <td>none</td>\n      <td>2018-12-09T13:03:41Z</td>\n    </tr>\n    <tr>\n      <th>47</th>\n      <td>youtube#searchResult</td>\n      <td>zFnJ1GQKWqdgJ7H6bnJrI7CyPwg</td>\n      <td>youtube#channel</td>\n      <td>UCnGRUpCHxeDmOIG7tmozoBA</td>\n      <td>2015-03-21T21:37:45Z</td>\n      <td>UCnGRUpCHxeDmOIG7tmozoBA</td>\n      <td>Game Attention</td>\n      <td></td>\n      <td>https://yt3.ggpht.com/ytc/AKedOLRh4sVGYxecvKUv...</td>\n      <td>https://yt3.ggpht.com/ytc/AKedOLRh4sVGYxecvKUv...</td>\n      <td>https://yt3.ggpht.com/ytc/AKedOLRh4sVGYxecvKUv...</td>\n      <td>Game Attention</td>\n      <td>upcoming</td>\n      <td>2015-03-21T21:37:45Z</td>\n    </tr>\n    <tr>\n      <th>48</th>\n      <td>youtube#searchResult</td>\n      <td>xYtGKddwbXChwyJUQSzYrXQMxRo</td>\n      <td>youtube#channel</td>\n      <td>UCmB08z6XksLVVj_YbsujBUg</td>\n      <td>2013-07-23T15:25:42Z</td>\n      <td>UCmB08z6XksLVVj_YbsujBUg</td>\n      <td>MyxA Tv</td>\n      <td>Приветствуем вас на нашем канале MyxA TV! Сним...</td>\n      <td>https://yt3.ggpht.com/ytc/AKedOLTDV9X7ZDCk-2cQ...</td>\n      <td>https://yt3.ggpht.com/ytc/AKedOLTDV9X7ZDCk-2cQ...</td>\n      <td>https://yt3.ggpht.com/ytc/AKedOLTDV9X7ZDCk-2cQ...</td>\n      <td>MyxA Tv</td>\n      <td>none</td>\n      <td>2013-07-23T15:25:42Z</td>\n    </tr>\n    <tr>\n      <th>49</th>\n      <td>youtube#searchResult</td>\n      <td>xc5JoYv_RmcK7e2aNPQ5oqwvXv4</td>\n      <td>youtube#channel</td>\n      <td>UCBIAwy7guqgAhQq7rdRUBKA</td>\n      <td>2019-05-14T22:34:44Z</td>\n      <td>UCBIAwy7guqgAhQq7rdRUBKA</td>\n      <td>TailPlay</td>\n      <td>Привет друзья! Меня зовут Олег. Люблю играть в...</td>\n      <td>https://yt3.ggpht.com/ytc/AKedOLQ6fIHylR-2CHTj...</td>\n      <td>https://yt3.ggpht.com/ytc/AKedOLQ6fIHylR-2CHTj...</td>\n      <td>https://yt3.ggpht.com/ytc/AKedOLQ6fIHylR-2CHTj...</td>\n      <td>TailPlay</td>\n      <td>upcoming</td>\n      <td>2019-05-14T22:34:44Z</td>\n    </tr>\n  </tbody>\n</table>\n<p>100 rows × 14 columns</p>\n</div>"
     },
     "execution_count": 31,
     "metadata": {},
     "output_type": "execute_result"
    }
   ],
   "source": [
    "reviews = collector.make_iter_request(game_names[:2], add_mask = mask_review)\n",
    "\n",
    "reviews"
   ],
   "metadata": {
    "collapsed": false,
    "pycharm": {
     "name": "#%%\n"
    }
   }
  },
  {
   "cell_type": "code",
   "execution_count": null,
   "outputs": [],
   "source": [
    "# Блогеры и их каналы\n",
    "\n",
    "# Код для исполнителя по прохождениям"
   ],
   "metadata": {
    "collapsed": false,
    "pycharm": {
     "name": "#%%\n"
    }
   }
  },
  {
   "cell_type": "code",
   "execution_count": null,
   "outputs": [],
   "source": [],
   "metadata": {
    "collapsed": false,
    "pycharm": {
     "name": "#%%\n"
    }
   }
  }
 ],
 "metadata": {
  "kernelspec": {
   "display_name": "Python 3",
   "language": "python",
   "name": "python3"
  },
  "language_info": {
   "codemirror_mode": {
    "name": "ipython",
    "version": 2
   },
   "file_extension": ".py",
   "mimetype": "text/x-python",
   "name": "python",
   "nbconvert_exporter": "python",
   "pygments_lexer": "ipython2",
   "version": "2.7.6"
  }
 },
 "nbformat": 4,
 "nbformat_minor": 0
}