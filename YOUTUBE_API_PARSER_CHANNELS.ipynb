{
 "cells": [
  {
   "cell_type": "markdown",
   "source": [
    "# Инициализация скрипта"
   ],
   "metadata": {
    "collapsed": false,
    "pycharm": {
     "name": "#%% md\n"
    }
   }
  },
  {
   "cell_type": "code",
   "execution_count": 66,
   "outputs": [],
   "source": [
    "# Loading Libraries\n",
    "\n",
    "import pandas as pd\n",
    "import googleapiclient.discovery as api\n",
    "import numpy as np\n",
    "import requests\n",
    "\n",
    "from pathlib import Path\n",
    "import os\n",
    "import yaml\n",
    "import json"
   ],
   "metadata": {
    "collapsed": false,
    "pycharm": {
     "name": "#%%\n"
    }
   }
  },
  {
   "cell_type": "code",
   "execution_count": 67,
   "outputs": [
    {
     "name": "stdout",
     "output_type": "stream",
     "text": [
      "Current Path\n",
      "/Users/andrei/PycharmProjects/DM_Games_Data\n"
     ]
    }
   ],
   "source": [
    "# Defining variables\n",
    "\n",
    "# Determine path to the working directory\n",
    "path = Path().parent.resolve()\n",
    "print('Current Path')\n",
    "print(path)\n",
    "\n",
    "# Opening and parsing yaml file\n",
    "\n",
    "cnf_path = str(path) + '/' + 'cnf.yaml'\n",
    "\n",
    "with open(cnf_path, 'r') as f:\n",
    "    config = yaml.load(f, Loader=yaml.FullLoader)\n",
    "\n",
    "api_b = config['api_client']\n",
    "query_params = config['QueryParams']['channels']"
   ],
   "metadata": {
    "collapsed": false,
    "pycharm": {
     "name": "#%%\n"
    }
   }
  },
  {
   "cell_type": "code",
   "execution_count": 68,
   "outputs": [],
   "source": [
    "with open('queries_iter_channels.json', 'r', encoding='utf-8') as f:\n",
    "    queries = json.load(f)"
   ],
   "metadata": {
    "collapsed": false,
    "pycharm": {
     "name": "#%%\n"
    }
   }
  },
  {
   "cell_type": "markdown",
   "source": [
    "# Создание клиента запроса"
   ],
   "metadata": {
    "collapsed": false,
    "pycharm": {
     "name": "#%% md\n"
    }
   }
  },
  {
   "cell_type": "raw",
   "source": [
    "api_b['developerKey'] = # Enter your developer key here"
   ],
   "metadata": {
    "collapsed": false,
    "pycharm": {
     "name": "#%% raw\n"
    }
   }
  },
  {
   "cell_type": "code",
   "execution_count": 69,
   "outputs": [],
   "source": [
    "youtube = api.build(**api_b)"
   ],
   "metadata": {
    "collapsed": false,
    "pycharm": {
     "name": "#%%\n"
    }
   }
  },
  {
   "cell_type": "code",
   "execution_count": null,
   "outputs": [],
   "source": [
    "class YoutubeDataCollector(object):\n",
    "\n",
    "    def __init__(self, q_params):\n",
    "        self.params = q_params\n",
    "\n",
    "    def make_request(self, q):\n",
    "        request = youtube.search().list(q = 'DOOM Eternal',\n",
    "        **query_params)\n",
    "        try:\n",
    "            return request.execute()\n",
    "        except:\n",
    "            return None\n",
    "\n",
    "    def make_iter_request(self, iter_list, add_mask = ''):\n",
    "\n",
    "        data = pd.DataFrame()\n",
    "\n",
    "        for iter in iter_list:\n",
    "\n",
    "            q = iter + add_mask\n",
    "\n",
    "            response = self.make_request(q)\n",
    "            if response:\n",
    "\n",
    "                tmp = pd.json_normalize(response['items'])\n",
    "                data = pd.concat([data,tmp])\n",
    "                continue\n",
    "\n",
    "            else:\n",
    "                print('Empty_response')\n",
    "\n",
    "        return data\n",
    "\n",
    "    def make_page_request(self):\n",
    "        pass"
   ],
   "metadata": {
    "collapsed": false,
    "pycharm": {
     "name": "#%%\n"
    }
   }
  },
  {
   "cell_type": "markdown",
   "source": [
    "# Базовый запрос"
   ],
   "metadata": {
    "collapsed": false,
    "pycharm": {
     "name": "#%% md\n"
    }
   }
  },
  {
   "cell_type": "code",
   "execution_count": 70,
   "outputs": [
    {
     "name": "stdout",
     "output_type": "stream",
     "text": [
      "There are game names to parse ['8-Bit Armies', \"Assassin's Creed Odyssey\", \"Assassin's Creed Origins\", 'Battle Chasers: Nightwar', 'Battleborn', 'Battleborn', 'Battlefield 1', 'Battlefield V', 'Bayonetta', 'Beat Cop', 'Bomber Crew', 'Bomber Crew', 'Call of Duty: Infinite Warfare', 'Call of Duty: WWII', 'Conan Exiles', 'Crashlands', 'Cuphead', 'Danganronpa: Trigger Happy Havoc', 'Dark Souls III', 'Darkest Dungeon', 'Darksiders III', 'Dead Cells', 'Dead Rising 4', 'Deponia Doomsday', 'Destiny 2', 'Destiny 2: Forsaken', 'Deus Ex: Mankind Divided', 'Deus Ex: Mankind Divided', 'Devil Daggers', 'DiRT 4', 'Dishonored 2', 'Dishonored: Death of the Outsider', 'Dragon Ball FighterZ', \"Dragon's Dogma: Dark Arisen\", 'Dungeon Souls', 'Dungeons 3', 'Dying Light', 'Elex', 'Enter the Gungeon', 'F1 2016', 'F1 2017', 'F1 2017', 'F1 2018', 'FIFA 17', 'Fallout 4 VR', 'Far Cry 5', 'Far Cry: Primal', 'Farming Simulator 17', 'Farming Simulator 19', 'Farming Simulator 19', 'Final Fantasy X / X-2 HD Remaster', 'Final Fantasy XII: The Zodiac Age', 'Final Fantasy XIV: Stormblood', 'Final Fantasy XV: Windows Edition', 'Football Manager 2017', 'Football Manager 2018', 'Football Manager 2019', 'Football Manager 2019', 'For Honor', 'Frostpunk', 'God Eater 2: Rage Burst', 'Grim Dawn', 'Half-Life: Alyx', 'Half-Life: Alyx', 'Halo Wars 2', 'Hearts of Iron IV', \"Hellblade: Senua's Sacrifice\", \"Hellblade: Senua's Sacrifice\", \"Hellblade: Senua's Sacrifice\", 'Hitman', 'Hollow Knight', 'Hollow Knight', 'Homefront: The Revolution', 'Hyper Light Drifter', 'Injustice 2', 'Jurassic World Evolution', 'Kingdom Come: Deliverance', 'Kingdom Come: Deliverance', 'Kingdom Come: Deliverance', 'Life is Strange', 'Little Nightmares', 'Mafia III', 'Mass Effect: Andromeda', 'Mighty No. 9', \"Mirror's Edge Catalyst\", 'Mordhau', 'My Time At Portia', 'Need for Speed: Payback', 'Ni no Kuni II: Revenant Kingdom', 'NieR: Automata', \"No Man's Sky\", \"No Man's Sky\", 'Okami HD', 'Ori and the Blind Forest: Definitive Edition', 'Overwatch', \"PLAYERUNKNOWN'S BATTLEGROUNDS\", 'Pillars of Eternity II: Deadfire', 'Planet Coaster', 'Pro Evolution Soccer 2017', 'Pro Evolution Soccer 2018', 'Project CARS 2', 'Quantum Break', 'Resident Evil VII: Biohazard', 'Rise of the Tomb Raider', 'Rocksmith 2014', 'Rust', 'SUPERHOT', 'SUPERHOT VR', 'Shadow Tactics: Blades of the Shogun', \"Sherlock Holmes: The Devil's Daughter\", \"Sid Meier's Civilization VI\", 'Slay the Spire', 'Slime Rancher', 'South Park: The Fractured But Whole', 'SpellForce 3', 'Spintires: MudRunner', 'Stardew Valley', 'Stellaris', 'Street Fighter V', 'Styx: Shards of Darkness', 'Subnautica', 'Sudden Strike 4', 'Sword Art Online: Fatal Bullet', 'Tales of Berseria', 'Tekken 7', 'The Banner Saga 2', 'The Dwarves', 'The Elder Scrolls Online: Morrowind', 'The Elder Scrolls Online: Summerset', 'The Escapists 2', 'The Evil Within 2', 'The Long Dark', 'The Sims 4: Cats & Dogs', 'The Sims 4: City Living', 'The Sims 4: Get Famous', 'The Surge', 'The Technomancer', 'The Turing Test', 'Titanfall 2', \"Tom Clancy's Ghost Recon Wildlands\", \"Tom Clancy's The Division\", 'Total War: Three Kingdoms', 'Total War: WARHAMMER', 'Tyranny', 'Tyranny', 'Vampyr', 'Vanquish', 'Vikings: Wolves of Midgard', 'Warhammer 40,000: Dawn of War III', 'Wolfenstein II: The New Colossus', 'World of Warcraft: Battle for Azeroth', 'World of Warcraft: Legion', 'Yooka-Laylee', 'theHunter: Call of the Wild']\n",
      "\n",
      "There are publisher names to parse ['11 bit studios', '2K Games', 'Activision', 'Bethesda Softworks', 'Bigben Interactive', 'Black Shell Media', 'Blizzard Entertainment', 'Butterscotch Shenanigans', 'Capcom', 'Chucklefish', 'Codemasters', 'Crate Entertainment', 'Curve Digital', 'Daedalic Entertainment', 'Deep Silver', 'Devolver Digital', 'Electronic Arts', 'Facepunch Studios', 'Focus Home Interactive', 'Frontier Developments', 'Hello Games', 'Hinterland Studio Inc.', 'Kalypso Media', 'Konami Digital Entertainment', 'Maximum Games', 'Mega Crit Games', 'Monomi Park', 'Motion Twin', 'Namco Bandai Games', 'Ninja Theory', 'Nordic Games', 'PUBG Corporation', 'Paradox Interactive', 'Rebellion Games', 'Red Hook Studios', 'SUPERHOT Team', 'Sega', 'Soedesco', 'Sorath', 'Spike Chunsoft', 'Square Enix', 'Studio MDHR', 'THQ Nordic', 'Team Cherry', 'Team17 Digital Ltd', 'Team17 Software', 'Triternion', 'Ubisoft', 'Unknown Worlds Entertainment', 'Valve', 'Versus Evil', 'Warhorse Studios', 'Warner Bros. Interactive Entertainment']\n"
     ]
    }
   ],
   "source": [
    "game_names = queries['games']\n",
    "print('There are game names to parse', game_names)\n",
    "print()\n",
    "publishers = queries['publishers']\n",
    "print('There are publisher names to parse',publishers)"
   ],
   "metadata": {
    "collapsed": false,
    "pycharm": {
     "name": "#%%\n"
    }
   }
  },
  {
   "cell_type": "code",
   "execution_count": 71,
   "outputs": [],
   "source": [
    "mask_review = ' & обзор'\n",
    "mask_play =  ' & (прохождение | летсплей | play)'\n"
   ],
   "metadata": {
    "collapsed": false,
    "pycharm": {
     "name": "#%%\n"
    }
   }
  },
  {
   "cell_type": "code",
   "execution_count": null,
   "outputs": [],
   "source": [
    "# Издательства и их каналы"
   ],
   "metadata": {
    "collapsed": false,
    "pycharm": {
     "name": "#%%\n"
    }
   }
  },
  {
   "cell_type": "code",
   "execution_count": null,
   "outputs": [],
   "source": [
    "# Издания и обзоры"
   ],
   "metadata": {
    "collapsed": false,
    "pycharm": {
     "name": "#%%\n"
    }
   }
  },
  {
   "cell_type": "code",
   "execution_count": null,
   "outputs": [],
   "source": [
    "# Блогеры и их каналы"
   ],
   "metadata": {
    "collapsed": false,
    "pycharm": {
     "name": "#%%\n"
    }
   }
  },
  {
   "cell_type": "code",
   "execution_count": 51,
   "outputs": [],
   "source": [
    "request = youtube.search().list(q = 'DOOM Eternal',\n",
    "        **query_params\n",
    ")\n",
    "response = request.execute()"
   ],
   "metadata": {
    "collapsed": false,
    "pycharm": {
     "name": "#%%\n"
    }
   }
  },
  {
   "cell_type": "code",
   "execution_count": 54,
   "outputs": [
    {
     "data": {
      "text/plain": "[{'kind': 'youtube#searchResult',\n  'etag': '821R9i55Y8Nv_HMsHvGmxWxCoWU',\n  'id': {'kind': 'youtube#channel', 'channelId': 'UCraeyBMrRNEGxz7r5L2x4lg'},\n  'snippet': {'publishedAt': '2010-11-13T11:28:13Z',\n   'channelId': 'UCraeyBMrRNEGxz7r5L2x4lg',\n   'title': 'ButtHeadObzor',\n   'description': 'Игровое шоу о консольных ретро играх и обзоры новинок игровой индустрии с динамичной и живой подачей. А так же: ...',\n   'thumbnails': {'default': {'url': 'https://yt3.ggpht.com/ytc/AKedOLRQ8QNaYg-l3Q-nJzEqEzZuL3ovM6NDJRTnIPts2w=s88-c-k-c0xffffffff-no-rj-mo'},\n    'medium': {'url': 'https://yt3.ggpht.com/ytc/AKedOLRQ8QNaYg-l3Q-nJzEqEzZuL3ovM6NDJRTnIPts2w=s240-c-k-c0xffffffff-no-rj-mo'},\n    'high': {'url': 'https://yt3.ggpht.com/ytc/AKedOLRQ8QNaYg-l3Q-nJzEqEzZuL3ovM6NDJRTnIPts2w=s800-c-k-c0xffffffff-no-rj-mo'}},\n   'channelTitle': 'ButtHeadObzor',\n   'liveBroadcastContent': 'upcoming',\n   'publishTime': '2010-11-13T11:28:13Z'}},\n {'kind': 'youtube#searchResult',\n  'etag': 'CUrFtt0LGIOPxBYTzcqEQyeKbLI',\n  'id': {'kind': 'youtube#channel', 'channelId': 'UCTDUF4VNk5SXEhrTp-7o8oQ'},\n  'snippet': {'publishedAt': '2013-12-30T06:04:16Z',\n   'channelId': 'UCTDUF4VNk5SXEhrTp-7o8oQ',\n   'title': 'HTW',\n   'description': 'Привет, друг! Добро пожаловать на канал, посвящённый видеоиграм. Меня зовут Игорь, и я рад тебя приветствовать!',\n   'thumbnails': {'default': {'url': 'https://yt3.ggpht.com/ytc/AKedOLTfSp69ugGz-YvQ4TRpqZl5Qw9O_Lenah600hmdZA=s88-c-k-c0xffffffff-no-rj-mo'},\n    'medium': {'url': 'https://yt3.ggpht.com/ytc/AKedOLTfSp69ugGz-YvQ4TRpqZl5Qw9O_Lenah600hmdZA=s240-c-k-c0xffffffff-no-rj-mo'},\n    'high': {'url': 'https://yt3.ggpht.com/ytc/AKedOLTfSp69ugGz-YvQ4TRpqZl5Qw9O_Lenah600hmdZA=s800-c-k-c0xffffffff-no-rj-mo'}},\n   'channelTitle': 'HTW',\n   'liveBroadcastContent': 'upcoming',\n   'publishTime': '2013-12-30T06:04:16Z'}},\n {'kind': 'youtube#searchResult',\n  'etag': 'jeboDa2VLOvlSPoTHpD6oGFIuMo',\n  'id': {'kind': 'youtube#channel', 'channelId': 'UCuOoMzrQ3aPnNqSlX6jtONw'},\n  'snippet': {'publishedAt': '2012-08-05T14:28:44Z',\n   'channelId': 'UCuOoMzrQ3aPnNqSlX6jtONw',\n   'title': 'Splice',\n   'description': 'Тут про игры рассказывают. И не только.',\n   'thumbnails': {'default': {'url': 'https://yt3.ggpht.com/ytc/AKedOLQ8oic9ZCPBlJ-k2mMlVnPYxOMbQ2ayoNHHehDm6Q=s88-c-k-c0xffffffff-no-rj-mo'},\n    'medium': {'url': 'https://yt3.ggpht.com/ytc/AKedOLQ8oic9ZCPBlJ-k2mMlVnPYxOMbQ2ayoNHHehDm6Q=s240-c-k-c0xffffffff-no-rj-mo'},\n    'high': {'url': 'https://yt3.ggpht.com/ytc/AKedOLQ8oic9ZCPBlJ-k2mMlVnPYxOMbQ2ayoNHHehDm6Q=s800-c-k-c0xffffffff-no-rj-mo'}},\n   'channelTitle': 'Splice',\n   'liveBroadcastContent': 'upcoming',\n   'publishTime': '2012-08-05T14:28:44Z'}},\n {'kind': 'youtube#searchResult',\n  'etag': 'CFI5Re89eNgHcntFzHfrLK6OnUA',\n  'id': {'kind': 'youtube#channel', 'channelId': 'UCOxQWb-OuyCSZadzWqrKTCQ'},\n  'snippet': {'publishedAt': '2009-10-30T12:56:17Z',\n   'channelId': 'UCOxQWb-OuyCSZadzWqrKTCQ',\n   'title': 'БУЛДЖАТь',\n   'description': 'Канал о игровой индустрии, играх и историях из околоигровой суеты.',\n   'thumbnails': {'default': {'url': 'https://yt3.ggpht.com/ytc/AKedOLQlt68ZFiOWXvtskHnSKewSI54zzSXd43TCQxktKg=s88-c-k-c0xffffffff-no-rj-mo'},\n    'medium': {'url': 'https://yt3.ggpht.com/ytc/AKedOLQlt68ZFiOWXvtskHnSKewSI54zzSXd43TCQxktKg=s240-c-k-c0xffffffff-no-rj-mo'},\n    'high': {'url': 'https://yt3.ggpht.com/ytc/AKedOLQlt68ZFiOWXvtskHnSKewSI54zzSXd43TCQxktKg=s800-c-k-c0xffffffff-no-rj-mo'}},\n   'channelTitle': 'БУЛДЖАТь',\n   'liveBroadcastContent': 'upcoming',\n   'publishTime': '2009-10-30T12:56:17Z'}},\n {'kind': 'youtube#searchResult',\n  'etag': 'nhxmVH9FUNB7agDcW4QPwiHL8Ss',\n  'id': {'kind': 'youtube#channel', 'channelId': 'UCtQJxXLYUhdfkr8jgGfzdMA'},\n  'snippet': {'publishedAt': '2017-02-05T13:53:01Z',\n   'channelId': 'UCtQJxXLYUhdfkr8jgGfzdMA',\n   'title': 'Metalyst',\n   'description': 'Всем здарова, с вами Металист. На этом канале я делаю не самые краткие обзорчики сюжетов моих самых любимых игр, ...',\n   'thumbnails': {'default': {'url': 'https://yt3.ggpht.com/ytc/AKedOLRu-xMZT1g57NTL1HoxwRxBbsLxU5QJ8gweh-kN=s88-c-k-c0xffffffff-no-rj-mo'},\n    'medium': {'url': 'https://yt3.ggpht.com/ytc/AKedOLRu-xMZT1g57NTL1HoxwRxBbsLxU5QJ8gweh-kN=s240-c-k-c0xffffffff-no-rj-mo'},\n    'high': {'url': 'https://yt3.ggpht.com/ytc/AKedOLRu-xMZT1g57NTL1HoxwRxBbsLxU5QJ8gweh-kN=s800-c-k-c0xffffffff-no-rj-mo'}},\n   'channelTitle': 'Metalyst',\n   'liveBroadcastContent': 'none',\n   'publishTime': '2017-02-05T13:53:01Z'}},\n {'kind': 'youtube#searchResult',\n  'etag': 'etRml71RZTpNXrQ_Yw1LMjFe2rY',\n  'id': {'kind': 'youtube#channel', 'channelId': 'UC8SCPmddeQZoP1CVwBcIDMQ'},\n  'snippet': {'publishedAt': '2011-11-15T15:37:19Z',\n   'channelId': 'UC8SCPmddeQZoP1CVwBcIDMQ',\n   'title': 'Егор Клёнов',\n   'description': 'Друзья! Давайте условимся, что меня зовут Егор Клёнов. В какой-то момент я понял, что мне очень хочется поделиться с ...',\n   'thumbnails': {'default': {'url': 'https://yt3.ggpht.com/ytc/AKedOLRkVYgvwMn_0gKfysa6CBQrOiRKc8G78Nji9cl1gw=s88-c-k-c0xffffffff-no-rj-mo'},\n    'medium': {'url': 'https://yt3.ggpht.com/ytc/AKedOLRkVYgvwMn_0gKfysa6CBQrOiRKc8G78Nji9cl1gw=s240-c-k-c0xffffffff-no-rj-mo'},\n    'high': {'url': 'https://yt3.ggpht.com/ytc/AKedOLRkVYgvwMn_0gKfysa6CBQrOiRKc8G78Nji9cl1gw=s800-c-k-c0xffffffff-no-rj-mo'}},\n   'channelTitle': 'Егор Клёнов',\n   'liveBroadcastContent': 'upcoming',\n   'publishTime': '2011-11-15T15:37:19Z'}},\n {'kind': 'youtube#searchResult',\n  'etag': 'JSBhHAdOSSN-7OKZMyjs02lpHUU',\n  'id': {'kind': 'youtube#channel', 'channelId': 'UCMEgqprT8gvUvtYiDjf7YEQ'},\n  'snippet': {'publishedAt': '2016-06-21T11:45:47Z',\n   'channelId': 'UCMEgqprT8gvUvtYiDjf7YEQ',\n   'title': 'BuddaSHOW',\n   'description': 'Всем привет, меня зовут Илья, и я здесь чтобы развлекать вас и себя интересным, веселым и познавательным контентом, ...',\n   'thumbnails': {'default': {'url': 'https://yt3.ggpht.com/ytc/AKedOLQqCn0QbfwnDGk93eXTT-dE34QvStXvwVZ3RI6syg=s88-c-k-c0xffffffff-no-rj-mo'},\n    'medium': {'url': 'https://yt3.ggpht.com/ytc/AKedOLQqCn0QbfwnDGk93eXTT-dE34QvStXvwVZ3RI6syg=s240-c-k-c0xffffffff-no-rj-mo'},\n    'high': {'url': 'https://yt3.ggpht.com/ytc/AKedOLQqCn0QbfwnDGk93eXTT-dE34QvStXvwVZ3RI6syg=s800-c-k-c0xffffffff-no-rj-mo'}},\n   'channelTitle': 'BuddaSHOW',\n   'liveBroadcastContent': 'upcoming',\n   'publishTime': '2016-06-21T11:45:47Z'}},\n {'kind': 'youtube#searchResult',\n  'etag': 'rhsCr5dwCexzd8Ez-gRsv5UGipA',\n  'id': {'kind': 'youtube#channel', 'channelId': 'UCwbb_HSdbd_-RSXQkOGT9yA'},\n  'snippet': {'publishedAt': '2011-09-04T12:02:37Z',\n   'channelId': 'UCwbb_HSdbd_-RSXQkOGT9yA',\n   'title': 'On The Table - Обзоры комиксов и многое другое',\n   'description': 'В моих обзорах вы не увидите кадров, движущихся вверх/вниз, отсканированных страниц и затянутого на 10 и более ...',\n   'thumbnails': {'default': {'url': 'https://yt3.ggpht.com/ytc/AKedOLRajo2XzRELIlckGM_9UP5y6LG11xFfhLhFn1tf3A=s88-c-k-c0xffffffff-no-rj-mo'},\n    'medium': {'url': 'https://yt3.ggpht.com/ytc/AKedOLRajo2XzRELIlckGM_9UP5y6LG11xFfhLhFn1tf3A=s240-c-k-c0xffffffff-no-rj-mo'},\n    'high': {'url': 'https://yt3.ggpht.com/ytc/AKedOLRajo2XzRELIlckGM_9UP5y6LG11xFfhLhFn1tf3A=s800-c-k-c0xffffffff-no-rj-mo'}},\n   'channelTitle': 'On The Table - Обзоры комиксов и многое другое',\n   'liveBroadcastContent': 'upcoming',\n   'publishTime': '2011-09-04T12:02:37Z'}},\n {'kind': 'youtube#searchResult',\n  'etag': 'DqVl3S0_NkMVrHLiAySO61h2xZc',\n  'id': {'kind': 'youtube#channel', 'channelId': 'UCmpJAi_4F6RdRqrtFr70inw'},\n  'snippet': {'publishedAt': '2020-04-17T12:03:05Z',\n   'channelId': 'UCmpJAi_4F6RdRqrtFr70inw',\n   'title': 'hmmmp',\n   'description': 'Clinically unstable alcoholic that fills the hole in his soul with numbers on the internet, I spend every waking day of my life ...',\n   'thumbnails': {'default': {'url': 'https://yt3.ggpht.com/ytc/AKedOLRjVL9sl0VpcAApKrFadwbHQhElM2JQVQ7JbEUuDg=s88-c-k-c0xffffffff-no-rj-mo'},\n    'medium': {'url': 'https://yt3.ggpht.com/ytc/AKedOLRjVL9sl0VpcAApKrFadwbHQhElM2JQVQ7JbEUuDg=s240-c-k-c0xffffffff-no-rj-mo'},\n    'high': {'url': 'https://yt3.ggpht.com/ytc/AKedOLRjVL9sl0VpcAApKrFadwbHQhElM2JQVQ7JbEUuDg=s800-c-k-c0xffffffff-no-rj-mo'}},\n   'channelTitle': 'hmmmp',\n   'liveBroadcastContent': 'none',\n   'publishTime': '2020-04-17T12:03:05Z'}},\n {'kind': 'youtube#searchResult',\n  'etag': 'uOPENbWkhrqX0_Dd803JHSvHWI4',\n  'id': {'kind': 'youtube#channel', 'channelId': 'UCMBcgf6cZ_iZAhrEl0zYe9A'},\n  'snippet': {'publishedAt': '2010-12-02T18:23:49Z',\n   'channelId': 'UCMBcgf6cZ_iZAhrEl0zYe9A',\n   'title': 'Сухов против вирусов',\n   'description': '',\n   'thumbnails': {'default': {'url': 'https://yt3.ggpht.com/ytc/AKedOLSjjp7gEmhJLxKehKWm4uXtZq6xaZkv2AyxEX5Owg=s88-c-k-c0xffffffff-no-rj-mo'},\n    'medium': {'url': 'https://yt3.ggpht.com/ytc/AKedOLSjjp7gEmhJLxKehKWm4uXtZq6xaZkv2AyxEX5Owg=s240-c-k-c0xffffffff-no-rj-mo'},\n    'high': {'url': 'https://yt3.ggpht.com/ytc/AKedOLSjjp7gEmhJLxKehKWm4uXtZq6xaZkv2AyxEX5Owg=s800-c-k-c0xffffffff-no-rj-mo'}},\n   'channelTitle': 'Сухов против вирусов',\n   'liveBroadcastContent': 'upcoming',\n   'publishTime': '2010-12-02T18:23:49Z'}},\n {'kind': 'youtube#searchResult',\n  'etag': 'Pn5tEBNwVsHdHL2ITdFEJtYa0Ec',\n  'id': {'kind': 'youtube#channel', 'channelId': 'UCw_iR_oXIZT0FBQhLn2JQ-Q'},\n  'snippet': {'publishedAt': '2020-07-07T13:29:12Z',\n   'channelId': 'UCw_iR_oXIZT0FBQhLn2JQ-Q',\n   'title': 'popingui',\n   'description': 'Привет! Добро пожаловать на гик-канал \"Попингуи\" ! Мы группа попингуев интересующихся медиа-культурой. Канал создан ...',\n   'thumbnails': {'default': {'url': 'https://yt3.ggpht.com/L8laOBj5Ohca_QAuh7m2p1iDpWJU63aAoMNdvNJNZtMEq7ZvjhCKVi-AasspY1ZfGylI-oATBg=s88-c-k-c0xffffffff-no-rj-mo'},\n    'medium': {'url': 'https://yt3.ggpht.com/L8laOBj5Ohca_QAuh7m2p1iDpWJU63aAoMNdvNJNZtMEq7ZvjhCKVi-AasspY1ZfGylI-oATBg=s240-c-k-c0xffffffff-no-rj-mo'},\n    'high': {'url': 'https://yt3.ggpht.com/L8laOBj5Ohca_QAuh7m2p1iDpWJU63aAoMNdvNJNZtMEq7ZvjhCKVi-AasspY1ZfGylI-oATBg=s800-c-k-c0xffffffff-no-rj-mo'}},\n   'channelTitle': 'popingui',\n   'liveBroadcastContent': 'none',\n   'publishTime': '2020-07-07T13:29:12Z'}},\n {'kind': 'youtube#searchResult',\n  'etag': 'A_guOlTfSle_MEYbIjfo4zVM7sw',\n  'id': {'kind': 'youtube#channel', 'channelId': 'UC8omHTwO56vleASFsIE4zTg'},\n  'snippet': {'publishedAt': '2011-01-18T17:27:40Z',\n   'channelId': 'UC8omHTwO56vleASFsIE4zTg',\n   'title': 'XSSR Academy',\n   'description': 'XSSR Academy (used to be known as XSSR Music Academy) has been training dozens of musicians and DJs from Russia, and ...',\n   'thumbnails': {'default': {'url': 'https://yt3.ggpht.com/ytc/AKedOLQxjeCVZc7O7_pPPwi6FkmIfFnd8Q8EvM2M6aF0IQ=s88-c-k-c0xffffffff-no-rj-mo'},\n    'medium': {'url': 'https://yt3.ggpht.com/ytc/AKedOLQxjeCVZc7O7_pPPwi6FkmIfFnd8Q8EvM2M6aF0IQ=s240-c-k-c0xffffffff-no-rj-mo'},\n    'high': {'url': 'https://yt3.ggpht.com/ytc/AKedOLQxjeCVZc7O7_pPPwi6FkmIfFnd8Q8EvM2M6aF0IQ=s800-c-k-c0xffffffff-no-rj-mo'}},\n   'channelTitle': 'XSSR Academy',\n   'liveBroadcastContent': 'none',\n   'publishTime': '2011-01-18T17:27:40Z'}},\n {'kind': 'youtube#searchResult',\n  'etag': '3G6GEeADDUi0IA_5pJ72eOoHXMM',\n  'id': {'kind': 'youtube#channel', 'channelId': 'UCwg6sSfADHl7sqJWUYZST2g'},\n  'snippet': {'publishedAt': '2015-03-10T01:09:36Z',\n   'channelId': 'UCwg6sSfADHl7sqJWUYZST2g',\n   'title': 'Midnight',\n   'description': 'My name is Midnight and I do Halo 5, Destiny, and Gears of War 4 Videos. Milestones 100000 Views - 7/20/2016 500 Subs ...',\n   'thumbnails': {'default': {'url': 'https://yt3.ggpht.com/ytc/AKedOLTVppGGRBFaY7HFUCyOStc5IYNKjO8OS2OMloqazw=s88-c-k-c0xffffffff-no-rj-mo'},\n    'medium': {'url': 'https://yt3.ggpht.com/ytc/AKedOLTVppGGRBFaY7HFUCyOStc5IYNKjO8OS2OMloqazw=s240-c-k-c0xffffffff-no-rj-mo'},\n    'high': {'url': 'https://yt3.ggpht.com/ytc/AKedOLTVppGGRBFaY7HFUCyOStc5IYNKjO8OS2OMloqazw=s800-c-k-c0xffffffff-no-rj-mo'}},\n   'channelTitle': 'Midnight',\n   'liveBroadcastContent': 'none',\n   'publishTime': '2015-03-10T01:09:36Z'}},\n {'kind': 'youtube#searchResult',\n  'etag': 'D05A9BE4tcfqiCXdv3ShIKzeD2w',\n  'id': {'kind': 'youtube#channel', 'channelId': 'UCXcBYtfYN1SD54baw0EbFeQ'},\n  'snippet': {'publishedAt': '2020-01-15T05:03:49Z',\n   'channelId': 'UCXcBYtfYN1SD54baw0EbFeQ',\n   'title': 'Edgarilla',\n   'description': 'Меня зовут Эдгар, тут я занимаюсь всякой ерундой - играю, размышляю, говорю всякую фигню на камеру. Обзоры ...',\n   'thumbnails': {'default': {'url': 'https://yt3.ggpht.com/ytc/AKedOLS3CvOIcsO4r_8UXCGsMUNJb2UszYiPOENxDdIZ=s88-c-k-c0xffffffff-no-rj-mo'},\n    'medium': {'url': 'https://yt3.ggpht.com/ytc/AKedOLS3CvOIcsO4r_8UXCGsMUNJb2UszYiPOENxDdIZ=s240-c-k-c0xffffffff-no-rj-mo'},\n    'high': {'url': 'https://yt3.ggpht.com/ytc/AKedOLS3CvOIcsO4r_8UXCGsMUNJb2UszYiPOENxDdIZ=s800-c-k-c0xffffffff-no-rj-mo'}},\n   'channelTitle': 'Edgarilla',\n   'liveBroadcastContent': 'live',\n   'publishTime': '2020-01-15T05:03:49Z'}},\n {'kind': 'youtube#searchResult',\n  'etag': 'U3EfgNBNjP4w2taHf9O9dfajENU',\n  'id': {'kind': 'youtube#channel', 'channelId': 'UCksdipLcHJJfX9UjFpRGqEQ'},\n  'snippet': {'publishedAt': '2020-04-12T12:18:20Z',\n   'channelId': 'UCksdipLcHJJfX9UjFpRGqEQ',\n   'title': 'FromOnotoleGames',\n   'description': 'Всем привет! Анатолич на связи :) Это канал об играх. Делаю обзоры как на новинки, так и на игры прошлых лет. Играю на ...',\n   'thumbnails': {'default': {'url': 'https://yt3.ggpht.com/ytc/AKedOLSkJkzgVNpU1NLTxu9M1x0hD2W-0pvA8sGdxhEF=s88-c-k-c0xffffffff-no-rj-mo'},\n    'medium': {'url': 'https://yt3.ggpht.com/ytc/AKedOLSkJkzgVNpU1NLTxu9M1x0hD2W-0pvA8sGdxhEF=s240-c-k-c0xffffffff-no-rj-mo'},\n    'high': {'url': 'https://yt3.ggpht.com/ytc/AKedOLSkJkzgVNpU1NLTxu9M1x0hD2W-0pvA8sGdxhEF=s800-c-k-c0xffffffff-no-rj-mo'}},\n   'channelTitle': 'FromOnotoleGames',\n   'liveBroadcastContent': 'none',\n   'publishTime': '2020-04-12T12:18:20Z'}},\n {'kind': 'youtube#searchResult',\n  'etag': 'abfcsP1OpeUBrc5GpKiehlI4dAE',\n  'id': {'kind': 'youtube#channel', 'channelId': 'UC-XFO6zYWc79U2qRUEazMwA'},\n  'snippet': {'publishedAt': '2011-06-05T23:44:20Z',\n   'channelId': 'UC-XFO6zYWc79U2qRUEazMwA',\n   'title': 'Under The Mayo',\n   'description': 'Analysis, discussion, strategy for DOOM, Resident Evil, MK9, and other games I have a passion for. Any business inquiries ...',\n   'thumbnails': {'default': {'url': 'https://yt3.ggpht.com/ytc/AKedOLQZPwJfOE9ha2sSakXvMyLJksws7lglRCY7jFUdXA=s88-c-k-c0xffffffff-no-rj-mo'},\n    'medium': {'url': 'https://yt3.ggpht.com/ytc/AKedOLQZPwJfOE9ha2sSakXvMyLJksws7lglRCY7jFUdXA=s240-c-k-c0xffffffff-no-rj-mo'},\n    'high': {'url': 'https://yt3.ggpht.com/ytc/AKedOLQZPwJfOE9ha2sSakXvMyLJksws7lglRCY7jFUdXA=s800-c-k-c0xffffffff-no-rj-mo'}},\n   'channelTitle': 'Under The Mayo',\n   'liveBroadcastContent': 'none',\n   'publishTime': '2011-06-05T23:44:20Z'}},\n {'kind': 'youtube#searchResult',\n  'etag': '6WM0blhGR5Wm0t37aIs1fZR17sk',\n  'id': {'kind': 'youtube#channel', 'channelId': 'UCfdgIq01iG92AXBt-NxgPkg'},\n  'snippet': {'publishedAt': '2012-10-21T06:02:40Z',\n   'channelId': 'UCfdgIq01iG92AXBt-NxgPkg',\n   'title': 'later',\n   'description': 'делаю видосы про разное later@topbro.ru.',\n   'thumbnails': {'default': {'url': 'https://yt3.ggpht.com/ytc/AKedOLRhN6FsZ6f3XzGsXYrbEedGBeFnLAnJ7aW7rcxLiQ=s88-c-k-c0xffffffff-no-rj-mo'},\n    'medium': {'url': 'https://yt3.ggpht.com/ytc/AKedOLRhN6FsZ6f3XzGsXYrbEedGBeFnLAnJ7aW7rcxLiQ=s240-c-k-c0xffffffff-no-rj-mo'},\n    'high': {'url': 'https://yt3.ggpht.com/ytc/AKedOLRhN6FsZ6f3XzGsXYrbEedGBeFnLAnJ7aW7rcxLiQ=s800-c-k-c0xffffffff-no-rj-mo'}},\n   'channelTitle': 'later',\n   'liveBroadcastContent': 'none',\n   'publishTime': '2012-10-21T06:02:40Z'}},\n {'kind': 'youtube#searchResult',\n  'etag': 'Q27bpgk4UhOLzfZvrb3PQUT_yWI',\n  'id': {'kind': 'youtube#channel', 'channelId': 'UCaYcdtqwDh79hlTHfHV_yhg'},\n  'snippet': {'publishedAt': '2014-04-06T12:32:42Z',\n   'channelId': 'UCaYcdtqwDh79hlTHfHV_yhg',\n   'title': 'OKLP',\n   'description': 'Привет, меня зовут Александр Старцев и я рад, что ты заглянул на мой канал OkayLetsPlay (OKLP/ОКЛП ) Каждую неделю ...',\n   'thumbnails': {'default': {'url': 'https://yt3.ggpht.com/ytc/AKedOLQsT3vWUiSViknn6pj_GRmQZ17__kYZiQisf3-D=s88-c-k-c0xffffffff-no-rj-mo'},\n    'medium': {'url': 'https://yt3.ggpht.com/ytc/AKedOLQsT3vWUiSViknn6pj_GRmQZ17__kYZiQisf3-D=s240-c-k-c0xffffffff-no-rj-mo'},\n    'high': {'url': 'https://yt3.ggpht.com/ytc/AKedOLQsT3vWUiSViknn6pj_GRmQZ17__kYZiQisf3-D=s800-c-k-c0xffffffff-no-rj-mo'}},\n   'channelTitle': 'OKLP',\n   'liveBroadcastContent': 'upcoming',\n   'publishTime': '2014-04-06T12:32:42Z'}},\n {'kind': 'youtube#searchResult',\n  'etag': 'uAX90MWgvg6oekUEE05AOjc-S2E',\n  'id': {'kind': 'youtube#channel', 'channelId': 'UCaP2kiHLYmO5AwNqVWbJWiw'},\n  'snippet': {'publishedAt': '2014-02-14T15:30:42Z',\n   'channelId': 'UCaP2kiHLYmO5AwNqVWbJWiw',\n   'title': 'Типичный ИГРОВОЙ',\n   'description': 'Решили построить своё казино с блэкджеком и шлюхами! Типичный ИГРОВОЙ - это место, где вы найдете огромное ...',\n   'thumbnails': {'default': {'url': 'https://yt3.ggpht.com/ytc/AKedOLQAIPNJgwzAPWiPEAu0sGKnNIRSerUfQ9k1NaYPMQ=s88-c-k-c0xffffffff-no-rj-mo'},\n    'medium': {'url': 'https://yt3.ggpht.com/ytc/AKedOLQAIPNJgwzAPWiPEAu0sGKnNIRSerUfQ9k1NaYPMQ=s240-c-k-c0xffffffff-no-rj-mo'},\n    'high': {'url': 'https://yt3.ggpht.com/ytc/AKedOLQAIPNJgwzAPWiPEAu0sGKnNIRSerUfQ9k1NaYPMQ=s800-c-k-c0xffffffff-no-rj-mo'}},\n   'channelTitle': 'Типичный ИГРОВОЙ',\n   'liveBroadcastContent': 'upcoming',\n   'publishTime': '2014-02-14T15:30:42Z'}},\n {'kind': 'youtube#searchResult',\n  'etag': 'qfguI--P384QOZhPhGYovrlESJk',\n  'id': {'kind': 'youtube#channel', 'channelId': 'UCru1pfuMW71-rdoa73FBy7Q'},\n  'snippet': {'publishedAt': '2020-06-09T01:39:38Z',\n   'channelId': 'UCru1pfuMW71-rdoa73FBy7Q',\n   'title': 'South Coast Gamer',\n   'description': '',\n   'thumbnails': {'default': {'url': 'https://yt3.ggpht.com/ytc/AKedOLRMZ8ydhwLbaHDqj6FhMGQolp__Gkmwd5npHRiU=s88-c-k-c0xffffffff-no-rj-mo'},\n    'medium': {'url': 'https://yt3.ggpht.com/ytc/AKedOLRMZ8ydhwLbaHDqj6FhMGQolp__Gkmwd5npHRiU=s240-c-k-c0xffffffff-no-rj-mo'},\n    'high': {'url': 'https://yt3.ggpht.com/ytc/AKedOLRMZ8ydhwLbaHDqj6FhMGQolp__Gkmwd5npHRiU=s800-c-k-c0xffffffff-no-rj-mo'}},\n   'channelTitle': 'South Coast Gamer',\n   'liveBroadcastContent': 'none',\n   'publishTime': '2020-06-09T01:39:38Z'}},\n {'kind': 'youtube#searchResult',\n  'etag': 'zUD8OhjJB9QNtSf_EMfOdsKSJIs',\n  'id': {'kind': 'youtube#channel', 'channelId': 'UCgrTpSXuv_lXKrW6czAn8Qw'},\n  'snippet': {'publishedAt': '2020-03-05T19:55:34Z',\n   'channelId': 'UCgrTpSXuv_lXKrW6czAn8Qw',\n   'title': 'Odd Dawn Gaming',\n   'description': '',\n   'thumbnails': {'default': {'url': 'https://yt3.ggpht.com/ytc/AKedOLQbEILl8Jd5uQwYJlvI_r8pe9370e0YL9zpkqih=s88-c-k-c0xffffffff-no-rj-mo'},\n    'medium': {'url': 'https://yt3.ggpht.com/ytc/AKedOLQbEILl8Jd5uQwYJlvI_r8pe9370e0YL9zpkqih=s240-c-k-c0xffffffff-no-rj-mo'},\n    'high': {'url': 'https://yt3.ggpht.com/ytc/AKedOLQbEILl8Jd5uQwYJlvI_r8pe9370e0YL9zpkqih=s800-c-k-c0xffffffff-no-rj-mo'}},\n   'channelTitle': 'Odd Dawn Gaming',\n   'liveBroadcastContent': 'none',\n   'publishTime': '2020-03-05T19:55:34Z'}},\n {'kind': 'youtube#searchResult',\n  'etag': 'uC_uHaiwnWpNR4CXOtf5UtzUSO8',\n  'id': {'kind': 'youtube#channel', 'channelId': 'UCfL8Hn_6WCfBiddakO7o6Yg'},\n  'snippet': {'publishedAt': '2013-07-06T16:53:14Z',\n   'channelId': 'UCfL8Hn_6WCfBiddakO7o6Yg',\n   'title': 'Game Go',\n   'description': 'Канал про игры и о около-игровой тематике :Железки: обзор, тесты и т.п. ;-) Мой ПК процессор core i7 3770 видеокарта ...',\n   'thumbnails': {'default': {'url': 'https://yt3.ggpht.com/ytc/AKedOLSnv_nADlTvV7n5R0NJlDOibCZIa3EP7lKqykmv9w=s88-c-k-c0xffffffff-no-rj-mo'},\n    'medium': {'url': 'https://yt3.ggpht.com/ytc/AKedOLSnv_nADlTvV7n5R0NJlDOibCZIa3EP7lKqykmv9w=s240-c-k-c0xffffffff-no-rj-mo'},\n    'high': {'url': 'https://yt3.ggpht.com/ytc/AKedOLSnv_nADlTvV7n5R0NJlDOibCZIa3EP7lKqykmv9w=s800-c-k-c0xffffffff-no-rj-mo'}},\n   'channelTitle': 'Game Go',\n   'liveBroadcastContent': 'upcoming',\n   'publishTime': '2013-07-06T16:53:14Z'}},\n {'kind': 'youtube#searchResult',\n  'etag': 'rMDPbUYN4-M6DqLxagm-GLJbMu0',\n  'id': {'kind': 'youtube#channel', 'channelId': 'UCaaJqGScb2RNQpef2Rc3Dyw'},\n  'snippet': {'publishedAt': '2020-02-06T22:20:38Z',\n   'channelId': 'UCaaJqGScb2RNQpef2Rc3Dyw',\n   'title': 'That DOOM guy',\n   'description': 'my channle revews games and provides constructive criticism for small game devs by explaning indepth the mistakes of larger ...',\n   'thumbnails': {'default': {'url': 'https://yt3.ggpht.com/SF8uNCT7zwq5ekI76qNR23RobVzqxIa7RhQ4wXoEWa8JX-I0G73D8flPXEzpLPc7uqwwBkaP=s88-c-k-c0xffffffff-no-rj-mo'},\n    'medium': {'url': 'https://yt3.ggpht.com/SF8uNCT7zwq5ekI76qNR23RobVzqxIa7RhQ4wXoEWa8JX-I0G73D8flPXEzpLPc7uqwwBkaP=s240-c-k-c0xffffffff-no-rj-mo'},\n    'high': {'url': 'https://yt3.ggpht.com/SF8uNCT7zwq5ekI76qNR23RobVzqxIa7RhQ4wXoEWa8JX-I0G73D8flPXEzpLPc7uqwwBkaP=s800-c-k-c0xffffffff-no-rj-mo'}},\n   'channelTitle': 'That DOOM guy',\n   'liveBroadcastContent': 'none',\n   'publishTime': '2020-02-06T22:20:38Z'}},\n {'kind': 'youtube#searchResult',\n  'etag': '1arhClIf2Nefg3Oz4yB7bSvatKk',\n  'id': {'kind': 'youtube#channel', 'channelId': 'UCXOgevCxL5GKwfhMjondcEA'},\n  'snippet': {'publishedAt': '2007-07-20T22:30:45Z',\n   'channelId': 'UCXOgevCxL5GKwfhMjondcEA',\n   'title': 'Ryu F.X',\n   'description': 'Just a dude talking about games and eating junk.',\n   'thumbnails': {'default': {'url': 'https://yt3.ggpht.com/ytc/AKedOLS0rTGkLY9EU4zVZ3EUneVvYcTdApfBGsIqDlzZXg=s88-c-k-c0xffffffff-no-rj-mo'},\n    'medium': {'url': 'https://yt3.ggpht.com/ytc/AKedOLS0rTGkLY9EU4zVZ3EUneVvYcTdApfBGsIqDlzZXg=s240-c-k-c0xffffffff-no-rj-mo'},\n    'high': {'url': 'https://yt3.ggpht.com/ytc/AKedOLS0rTGkLY9EU4zVZ3EUneVvYcTdApfBGsIqDlzZXg=s800-c-k-c0xffffffff-no-rj-mo'}},\n   'channelTitle': 'Ryu F.X',\n   'liveBroadcastContent': 'upcoming',\n   'publishTime': '2007-07-20T22:30:45Z'}},\n {'kind': 'youtube#searchResult',\n  'etag': '7LErued59LLNHIr0UHrhtErZ20Y',\n  'id': {'kind': 'youtube#channel', 'channelId': 'UCAv6a5o_8KBSktyt7G4IoEA'},\n  'snippet': {'publishedAt': '2009-01-04T20:31:29Z',\n   'channelId': 'UCAv6a5o_8KBSktyt7G4IoEA',\n   'title': 'Drakonchik1989',\n   'description': 'Канал студии ЗМД (Здание многочисленных дверей). Некоммерческий проект. Мультики - Приключения ВиДа в Останкино, ...',\n   'thumbnails': {'default': {'url': 'https://yt3.ggpht.com/ytc/AKedOLSlzcfkK-djxl1T7bpqYd2y-KMsd54IGBhMgjL0=s88-c-k-c0xffffffff-no-rj-mo'},\n    'medium': {'url': 'https://yt3.ggpht.com/ytc/AKedOLSlzcfkK-djxl1T7bpqYd2y-KMsd54IGBhMgjL0=s240-c-k-c0xffffffff-no-rj-mo'},\n    'high': {'url': 'https://yt3.ggpht.com/ytc/AKedOLSlzcfkK-djxl1T7bpqYd2y-KMsd54IGBhMgjL0=s800-c-k-c0xffffffff-no-rj-mo'}},\n   'channelTitle': 'Drakonchik1989',\n   'liveBroadcastContent': 'upcoming',\n   'publishTime': '2009-01-04T20:31:29Z'}},\n {'kind': 'youtube#searchResult',\n  'etag': 'nggXdqzG-gBGEm8MwEookv0AdwY',\n  'id': {'kind': 'youtube#channel', 'channelId': 'UCN351f4i8bdRrHPDzQkkaYg'},\n  'snippet': {'publishedAt': '2011-02-25T21:21:21Z',\n   'channelId': 'UCN351f4i8bdRrHPDzQkkaYg',\n   'title': 'TheRetroReplay',\n   'description': 'Replaying those old games, the good, the bad and the trash from the NES to the Playstation and N64. In addition to classic games ...',\n   'thumbnails': {'default': {'url': 'https://yt3.ggpht.com/ytc/AKedOLSByKrdgbdW-ekjoRKGrkw6vBkP4ZqGB1ygUILR=s88-c-k-c0xffffffff-no-rj-mo'},\n    'medium': {'url': 'https://yt3.ggpht.com/ytc/AKedOLSByKrdgbdW-ekjoRKGrkw6vBkP4ZqGB1ygUILR=s240-c-k-c0xffffffff-no-rj-mo'},\n    'high': {'url': 'https://yt3.ggpht.com/ytc/AKedOLSByKrdgbdW-ekjoRKGrkw6vBkP4ZqGB1ygUILR=s800-c-k-c0xffffffff-no-rj-mo'}},\n   'channelTitle': 'TheRetroReplay',\n   'liveBroadcastContent': 'upcoming',\n   'publishTime': '2011-02-25T21:21:21Z'}},\n {'kind': 'youtube#searchResult',\n  'etag': '7sp_0MWZzhQ_T4YPGmxd2IGtMsU',\n  'id': {'kind': 'youtube#channel', 'channelId': 'UCtfhiLkhFh2_5e9495110Bg'},\n  'snippet': {'publishedAt': '2013-12-07T02:58:02Z',\n   'channelId': 'UCtfhiLkhFh2_5e9495110Bg',\n   'title': 'Blast Away the Game Review',\n   'description': 'We at Blast Away the Game Review are a group of journalist that are looking to expand our reach to gamers, publishers, and ...',\n   'thumbnails': {'default': {'url': 'https://yt3.ggpht.com/ytc/AKedOLQb9nxnhqc1brfbKcrpBEzxLOak5KLKYqhPdPvjiA=s88-c-k-c0xffffffff-no-rj-mo'},\n    'medium': {'url': 'https://yt3.ggpht.com/ytc/AKedOLQb9nxnhqc1brfbKcrpBEzxLOak5KLKYqhPdPvjiA=s240-c-k-c0xffffffff-no-rj-mo'},\n    'high': {'url': 'https://yt3.ggpht.com/ytc/AKedOLQb9nxnhqc1brfbKcrpBEzxLOak5KLKYqhPdPvjiA=s800-c-k-c0xffffffff-no-rj-mo'}},\n   'channelTitle': 'Blast Away the Game Review',\n   'liveBroadcastContent': 'upcoming',\n   'publishTime': '2013-12-07T02:58:02Z'}},\n {'kind': 'youtube#searchResult',\n  'etag': 'a36VIYK196um24PWsksQabRB0mM',\n  'id': {'kind': 'youtube#channel', 'channelId': 'UCAZnnk2X8E2xiVz-7CUWVHg'},\n  'snippet': {'publishedAt': '2015-12-29T11:13:39Z',\n   'channelId': 'UCAZnnk2X8E2xiVz-7CUWVHg',\n   'title': 'FaerBux',\n   'description': 'Профессиональный геймплей в Doom Eternal и многое другое... Мои составляющие компьютера: Процессор: AMD Ryzen 5 ...',\n   'thumbnails': {'default': {'url': 'https://yt3.ggpht.com/tX3gvVwmFTHElXYE3CqDPIh2PMY3z2GUtfIY-SKxPAEYUBhoCF3uNdwAsC1pNdJiE2RKK6t7=s88-c-k-c0xffffffff-no-rj-mo'},\n    'medium': {'url': 'https://yt3.ggpht.com/tX3gvVwmFTHElXYE3CqDPIh2PMY3z2GUtfIY-SKxPAEYUBhoCF3uNdwAsC1pNdJiE2RKK6t7=s240-c-k-c0xffffffff-no-rj-mo'},\n    'high': {'url': 'https://yt3.ggpht.com/tX3gvVwmFTHElXYE3CqDPIh2PMY3z2GUtfIY-SKxPAEYUBhoCF3uNdwAsC1pNdJiE2RKK6t7=s800-c-k-c0xffffffff-no-rj-mo'}},\n   'channelTitle': 'FaerBux',\n   'liveBroadcastContent': 'upcoming',\n   'publishTime': '2015-12-29T11:13:39Z'}},\n {'kind': 'youtube#searchResult',\n  'etag': 'NUJy0vSl1pcSd2n6qL1npt6bPxE',\n  'id': {'kind': 'youtube#channel', 'channelId': 'UCI0cYEGsHU3xGns9Nl5xoIw'},\n  'snippet': {'publishedAt': '2020-04-20T16:00:14Z',\n   'channelId': 'UCI0cYEGsHU3xGns9Nl5xoIw',\n   'title': 'vBearLoge',\n   'description': '',\n   'thumbnails': {'default': {'url': 'https://yt3.ggpht.com/ytc/AKedOLSfNZ_WCqCB2K61lUzGVvOU98gVMZCFJV4QQfee=s88-c-k-c0xffffffff-no-rj-mo'},\n    'medium': {'url': 'https://yt3.ggpht.com/ytc/AKedOLSfNZ_WCqCB2K61lUzGVvOU98gVMZCFJV4QQfee=s240-c-k-c0xffffffff-no-rj-mo'},\n    'high': {'url': 'https://yt3.ggpht.com/ytc/AKedOLSfNZ_WCqCB2K61lUzGVvOU98gVMZCFJV4QQfee=s800-c-k-c0xffffffff-no-rj-mo'}},\n   'channelTitle': 'vBearLoge',\n   'liveBroadcastContent': 'none',\n   'publishTime': '2020-04-20T16:00:14Z'}},\n {'kind': 'youtube#searchResult',\n  'etag': 'Hzon9_E4AO3CGa4AZ6jmbzHH9Ww',\n  'id': {'kind': 'youtube#channel', 'channelId': 'UCsvn_Po0SmunchJYOWpOxMg'},\n  'snippet': {'publishedAt': '2010-10-21T16:44:21Z',\n   'channelId': 'UCsvn_Po0SmunchJYOWpOxMg',\n   'title': 'videogamedunkey',\n   'description': 'watch my stupid ass videos.',\n   'thumbnails': {'default': {'url': 'https://yt3.ggpht.com/ytc/AKedOLRFq3pYuWaRnlGwOTm8ZAZaOD8IRXHn7fbqb6KZuQ=s88-c-k-c0xffffffff-no-rj-mo'},\n    'medium': {'url': 'https://yt3.ggpht.com/ytc/AKedOLRFq3pYuWaRnlGwOTm8ZAZaOD8IRXHn7fbqb6KZuQ=s240-c-k-c0xffffffff-no-rj-mo'},\n    'high': {'url': 'https://yt3.ggpht.com/ytc/AKedOLRFq3pYuWaRnlGwOTm8ZAZaOD8IRXHn7fbqb6KZuQ=s800-c-k-c0xffffffff-no-rj-mo'}},\n   'channelTitle': 'videogamedunkey',\n   'liveBroadcastContent': 'upcoming',\n   'publishTime': '2010-10-21T16:44:21Z'}},\n {'kind': 'youtube#searchResult',\n  'etag': 'Nc64ErmnbaGdQdIlWLpWeQe9QVc',\n  'id': {'kind': 'youtube#channel', 'channelId': 'UCQPj3_CglWW5Zohecxhs0ZA'},\n  'snippet': {'publishedAt': '2019-03-23T03:12:58Z',\n   'channelId': 'UCQPj3_CglWW5Zohecxhs0ZA',\n   'title': 'At This Times',\n   'description': '',\n   'thumbnails': {'default': {'url': 'https://yt3.ggpht.com/ytc/AKedOLSgmClkTsjSF3pzvtL-ztfyYSYZOh0C7QLjXX4Yfg=s88-c-k-c0xffffffff-no-rj-mo'},\n    'medium': {'url': 'https://yt3.ggpht.com/ytc/AKedOLSgmClkTsjSF3pzvtL-ztfyYSYZOh0C7QLjXX4Yfg=s240-c-k-c0xffffffff-no-rj-mo'},\n    'high': {'url': 'https://yt3.ggpht.com/ytc/AKedOLSgmClkTsjSF3pzvtL-ztfyYSYZOh0C7QLjXX4Yfg=s800-c-k-c0xffffffff-no-rj-mo'}},\n   'channelTitle': 'At This Times',\n   'liveBroadcastContent': 'none',\n   'publishTime': '2019-03-23T03:12:58Z'}},\n {'kind': 'youtube#searchResult',\n  'etag': 'gL8pWB4ZAH4YvTKxX9Si6e_YyfU',\n  'id': {'kind': 'youtube#channel', 'channelId': 'UC2EnCf3ydLwxS3c5310glcQ'},\n  'snippet': {'publishedAt': '2012-03-04T14:35:35Z',\n   'channelId': 'UC2EnCf3ydLwxS3c5310glcQ',\n   'title': 'Большой GiG',\n   'description': 'Друг, приветствую тебя на моем канале ! Если ты любишь true gaming и всегда устремляешь свой взор на топовые игры в ...',\n   'thumbnails': {'default': {'url': 'https://yt3.ggpht.com/AA7jLBvFhACOFabSufu9G8SjjHctvOZst7yGGe1ukljliSRqrYqPoU-Sflh0r2fpvtKf-lKl=s88-c-k-c0xffffffff-no-rj-mo'},\n    'medium': {'url': 'https://yt3.ggpht.com/AA7jLBvFhACOFabSufu9G8SjjHctvOZst7yGGe1ukljliSRqrYqPoU-Sflh0r2fpvtKf-lKl=s240-c-k-c0xffffffff-no-rj-mo'},\n    'high': {'url': 'https://yt3.ggpht.com/AA7jLBvFhACOFabSufu9G8SjjHctvOZst7yGGe1ukljliSRqrYqPoU-Sflh0r2fpvtKf-lKl=s800-c-k-c0xffffffff-no-rj-mo'}},\n   'channelTitle': 'Большой GiG',\n   'liveBroadcastContent': 'none',\n   'publishTime': '2012-03-04T14:35:35Z'}},\n {'kind': 'youtube#searchResult',\n  'etag': '-ymPcMGiPaCzmSAeRgKEhlc3Jjg',\n  'id': {'kind': 'youtube#channel', 'channelId': 'UCnq_o8oR5ui6h6x9yW1cySQ'},\n  'snippet': {'publishedAt': '2021-03-25T17:25:03Z',\n   'channelId': 'UCnq_o8oR5ui6h6x9yW1cySQ',\n   'title': 'LoadGame',\n   'description': 'Канал любителей видео игр.',\n   'thumbnails': {'default': {'url': 'https://yt3.ggpht.com/ytc/AKedOLRzyv4ZkmDIidt8K3sFb3hFizeOERJbp4QRE_NJ=s88-c-k-c0xffffffff-no-rj-mo'},\n    'medium': {'url': 'https://yt3.ggpht.com/ytc/AKedOLRzyv4ZkmDIidt8K3sFb3hFizeOERJbp4QRE_NJ=s240-c-k-c0xffffffff-no-rj-mo'},\n    'high': {'url': 'https://yt3.ggpht.com/ytc/AKedOLRzyv4ZkmDIidt8K3sFb3hFizeOERJbp4QRE_NJ=s800-c-k-c0xffffffff-no-rj-mo'}},\n   'channelTitle': 'LoadGame',\n   'liveBroadcastContent': 'none',\n   'publishTime': '2021-03-25T17:25:03Z'}},\n {'kind': 'youtube#searchResult',\n  'etag': 'YKPXlsZwO2vCS2APvjlPPaTcE50',\n  'id': {'kind': 'youtube#channel', 'channelId': 'UCsPCUQke-OXmGqrlWljBIbg'},\n  'snippet': {'publishedAt': '2013-07-15T02:36:37Z',\n   'channelId': 'UCsPCUQke-OXmGqrlWljBIbg',\n   'title': 'Buckio',\n   'description': 'Just a guy who likes to make Doom videos and make others chuckle Twitch: https://www.twitch.tv/buckio_ Twitter: ...',\n   'thumbnails': {'default': {'url': 'https://yt3.ggpht.com/ytc/AKedOLQITdZuPzD0igxpvNt7N2nysa4po7T2qGj42bflkQM=s88-c-k-c0xffffffff-no-rj-mo'},\n    'medium': {'url': 'https://yt3.ggpht.com/ytc/AKedOLQITdZuPzD0igxpvNt7N2nysa4po7T2qGj42bflkQM=s240-c-k-c0xffffffff-no-rj-mo'},\n    'high': {'url': 'https://yt3.ggpht.com/ytc/AKedOLQITdZuPzD0igxpvNt7N2nysa4po7T2qGj42bflkQM=s800-c-k-c0xffffffff-no-rj-mo'}},\n   'channelTitle': 'Buckio',\n   'liveBroadcastContent': 'none',\n   'publishTime': '2013-07-15T02:36:37Z'}},\n {'kind': 'youtube#searchResult',\n  'etag': 'dMA2slZ-hbT79NgU_MmgZQbQOg8',\n  'id': {'kind': 'youtube#channel', 'channelId': 'UCf-vmlRHZM6Cami3BA3Nu9A'},\n  'snippet': {'publishedAt': '2017-02-23T00:56:52Z',\n   'channelId': 'UCf-vmlRHZM6Cami3BA3Nu9A',\n   'title': 'RKZ',\n   'description': 'Привет! Меня зовут RKZ! Я выпускаю обзоры, игрофильмы, приколы, прохождения и другие видосики. Всех объединяет ...',\n   'thumbnails': {'default': {'url': 'https://yt3.ggpht.com/ytc/AKedOLSw9LmJ_bGSwHtVDqcn-OBx0t49WRVXGAd6jMLn9QM=s88-c-k-c0xffffffff-no-rj-mo'},\n    'medium': {'url': 'https://yt3.ggpht.com/ytc/AKedOLSw9LmJ_bGSwHtVDqcn-OBx0t49WRVXGAd6jMLn9QM=s240-c-k-c0xffffffff-no-rj-mo'},\n    'high': {'url': 'https://yt3.ggpht.com/ytc/AKedOLSw9LmJ_bGSwHtVDqcn-OBx0t49WRVXGAd6jMLn9QM=s800-c-k-c0xffffffff-no-rj-mo'}},\n   'channelTitle': 'RKZ',\n   'liveBroadcastContent': 'upcoming',\n   'publishTime': '2017-02-23T00:56:52Z'}},\n {'kind': 'youtube#searchResult',\n  'etag': 'SXoUHdAGCCZSHMgFl32o1QCHclY',\n  'id': {'kind': 'youtube#channel', 'channelId': 'UCC9fbZqxi9svdLEM9kKwFGA'},\n  'snippet': {'publishedAt': '2016-08-06T07:05:19Z',\n   'channelId': 'UCC9fbZqxi9svdLEM9kKwFGA',\n   'title': 'EddyX420',\n   'description': 'I ❤️ big booty hos , fast cars, and money. Tell your sister I said wussup.',\n   'thumbnails': {'default': {'url': 'https://yt3.ggpht.com/zU7T90UWy1HRirDqFjvVs4KMus4BVbcMVW3cNVXZwqaWXee5i_Xy6cfg9aVK_ZQ1MJ01D2iJAA=s88-c-k-c0xffffffff-no-rj-mo'},\n    'medium': {'url': 'https://yt3.ggpht.com/zU7T90UWy1HRirDqFjvVs4KMus4BVbcMVW3cNVXZwqaWXee5i_Xy6cfg9aVK_ZQ1MJ01D2iJAA=s240-c-k-c0xffffffff-no-rj-mo'},\n    'high': {'url': 'https://yt3.ggpht.com/zU7T90UWy1HRirDqFjvVs4KMus4BVbcMVW3cNVXZwqaWXee5i_Xy6cfg9aVK_ZQ1MJ01D2iJAA=s800-c-k-c0xffffffff-no-rj-mo'}},\n   'channelTitle': 'EddyX420',\n   'liveBroadcastContent': 'none',\n   'publishTime': '2016-08-06T07:05:19Z'}},\n {'kind': 'youtube#searchResult',\n  'etag': '8NLovcc-HfC2BThAUn66CNJdyJo',\n  'id': {'kind': 'youtube#channel', 'channelId': 'UCWHe3PLp_cxVh8XMoUEagUQ'},\n  'snippet': {'publishedAt': '2013-12-31T23:13:47Z',\n   'channelId': 'UCWHe3PLp_cxVh8XMoUEagUQ',\n   'title': 'Toastoffire',\n   'description': 'I like the feel of money and the taste of dick. New channel since the old channel was fucked over by youtube lmao.',\n   'thumbnails': {'default': {'url': 'https://yt3.ggpht.com/yRLquG7VtAJsNSVMVx18NvLYNgn_YR_cRxEVGUb-HuRSTolILqv9WFmbwUO_kZ18XJy7me3Poig=s88-c-k-c0xffffffff-no-rj-mo'},\n    'medium': {'url': 'https://yt3.ggpht.com/yRLquG7VtAJsNSVMVx18NvLYNgn_YR_cRxEVGUb-HuRSTolILqv9WFmbwUO_kZ18XJy7me3Poig=s240-c-k-c0xffffffff-no-rj-mo'},\n    'high': {'url': 'https://yt3.ggpht.com/yRLquG7VtAJsNSVMVx18NvLYNgn_YR_cRxEVGUb-HuRSTolILqv9WFmbwUO_kZ18XJy7me3Poig=s800-c-k-c0xffffffff-no-rj-mo'}},\n   'channelTitle': 'Toastoffire',\n   'liveBroadcastContent': 'none',\n   'publishTime': '2013-12-31T23:13:47Z'}},\n {'kind': 'youtube#searchResult',\n  'etag': 'AQwQphj7zv-n227fvkPKqgZDRAo',\n  'id': {'kind': 'youtube#channel', 'channelId': 'UCmZ04bEE4kFTKfOr7XHAvbQ'},\n  'snippet': {'publishedAt': '2012-10-29T18:08:32Z',\n   'channelId': 'UCmZ04bEE4kFTKfOr7XHAvbQ',\n   'title': 'Ретард',\n   'description': 'Видеоигры были ошибкой.',\n   'thumbnails': {'default': {'url': 'https://yt3.ggpht.com/ZxiVe6lqj9OVRyu8yzAvsGYtP4lNHnmCtkPj1L0rNLybq4TH2zEjGmZoq_D6mQ8lsXLX-JrKpw=s88-c-k-c0xffffffff-no-rj-mo'},\n    'medium': {'url': 'https://yt3.ggpht.com/ZxiVe6lqj9OVRyu8yzAvsGYtP4lNHnmCtkPj1L0rNLybq4TH2zEjGmZoq_D6mQ8lsXLX-JrKpw=s240-c-k-c0xffffffff-no-rj-mo'},\n    'high': {'url': 'https://yt3.ggpht.com/ZxiVe6lqj9OVRyu8yzAvsGYtP4lNHnmCtkPj1L0rNLybq4TH2zEjGmZoq_D6mQ8lsXLX-JrKpw=s800-c-k-c0xffffffff-no-rj-mo'}},\n   'channelTitle': 'Ретард',\n   'liveBroadcastContent': 'upcoming',\n   'publishTime': '2012-10-29T18:08:32Z'}},\n {'kind': 'youtube#searchResult',\n  'etag': '5rIpPcPXVZJ2HeuHEVVewBOqAYg',\n  'id': {'kind': 'youtube#channel', 'channelId': 'UCnqCiSaFH3dmcl-9As3Pn0Q'},\n  'snippet': {'publishedAt': '2020-03-18T14:59:11Z',\n   'channelId': 'UCnqCiSaFH3dmcl-9As3Pn0Q',\n   'title': 'Odd Gaming',\n   'description': 'I review stuff and do videos on games and stuff.',\n   'thumbnails': {'default': {'url': 'https://yt3.ggpht.com/ytc/AKedOLTOXeeATY3yL5QLidNSIiOrkSCtPtHkGsliE_c=s88-c-k-c0xffffffff-no-rj-mo'},\n    'medium': {'url': 'https://yt3.ggpht.com/ytc/AKedOLTOXeeATY3yL5QLidNSIiOrkSCtPtHkGsliE_c=s240-c-k-c0xffffffff-no-rj-mo'},\n    'high': {'url': 'https://yt3.ggpht.com/ytc/AKedOLTOXeeATY3yL5QLidNSIiOrkSCtPtHkGsliE_c=s800-c-k-c0xffffffff-no-rj-mo'}},\n   'channelTitle': 'Odd Gaming',\n   'liveBroadcastContent': 'none',\n   'publishTime': '2020-03-18T14:59:11Z'}},\n {'kind': 'youtube#searchResult',\n  'etag': 'OdS--pJ4etpDt2z_OqafJnvDyNw',\n  'id': {'kind': 'youtube#channel', 'channelId': 'UClOGLGPOqlAiLmOvXW5lKbw'},\n  'snippet': {'publishedAt': '2011-12-04T07:15:06Z',\n   'channelId': 'UClOGLGPOqlAiLmOvXW5lKbw',\n   'title': 'MandaloreGaming',\n   'description': 'King of Limbo. Video games.',\n   'thumbnails': {'default': {'url': 'https://yt3.ggpht.com/ytc/AKedOLRrPI0QQ4d7sryd8L79A3BbjXy9NM0-SIrpX80HMA=s88-c-k-c0xffffffff-no-rj-mo'},\n    'medium': {'url': 'https://yt3.ggpht.com/ytc/AKedOLRrPI0QQ4d7sryd8L79A3BbjXy9NM0-SIrpX80HMA=s240-c-k-c0xffffffff-no-rj-mo'},\n    'high': {'url': 'https://yt3.ggpht.com/ytc/AKedOLRrPI0QQ4d7sryd8L79A3BbjXy9NM0-SIrpX80HMA=s800-c-k-c0xffffffff-no-rj-mo'}},\n   'channelTitle': 'MandaloreGaming',\n   'liveBroadcastContent': 'none',\n   'publishTime': '2011-12-04T07:15:06Z'}},\n {'kind': 'youtube#searchResult',\n  'etag': '1uSnciaTBb-ZFo2BbYB0CMUhros',\n  'id': {'kind': 'youtube#channel', 'channelId': 'UC2B3vAF6L-X3OscZzVdZB-w'},\n  'snippet': {'publishedAt': '2016-12-31T07:05:26Z',\n   'channelId': 'UC2B3vAF6L-X3OscZzVdZB-w',\n   'title': 'Чирт фигник',\n   'description': 'Мой канал на Ютубе и я его создал, можете посмотреть мои видосики.',\n   'thumbnails': {'default': {'url': 'https://yt3.ggpht.com/ytc/AKedOLSFdudZhvx8XKjHX3uAVsaR_6K4M86NcBpwFdS13Q=s88-c-k-c0xffffffff-no-rj-mo'},\n    'medium': {'url': 'https://yt3.ggpht.com/ytc/AKedOLSFdudZhvx8XKjHX3uAVsaR_6K4M86NcBpwFdS13Q=s240-c-k-c0xffffffff-no-rj-mo'},\n    'high': {'url': 'https://yt3.ggpht.com/ytc/AKedOLSFdudZhvx8XKjHX3uAVsaR_6K4M86NcBpwFdS13Q=s800-c-k-c0xffffffff-no-rj-mo'}},\n   'channelTitle': 'Чирт фигник',\n   'liveBroadcastContent': 'none',\n   'publishTime': '2016-12-31T07:05:26Z'}},\n {'kind': 'youtube#searchResult',\n  'etag': '8CegeEJK4gwbloQbobM0vg18oqM',\n  'id': {'kind': 'youtube#channel', 'channelId': 'UCU7G8KJmyOqIvP6bqoaQ5Bg'},\n  'snippet': {'publishedAt': '2008-10-19T06:02:35Z',\n   'channelId': 'UCU7G8KJmyOqIvP6bqoaQ5Bg',\n   'title': 'M1',\n   'description': '45100.',\n   'thumbnails': {'default': {'url': 'https://yt3.ggpht.com/uHMQeINNFFM8rEPXgGL_2ft0N16KFjB4orZrbDWH3tXJj4Xz5deQFRRgBD5CYbdkw8-hc7UH=s88-c-k-c0xffffffff-no-rj-mo'},\n    'medium': {'url': 'https://yt3.ggpht.com/uHMQeINNFFM8rEPXgGL_2ft0N16KFjB4orZrbDWH3tXJj4Xz5deQFRRgBD5CYbdkw8-hc7UH=s240-c-k-c0xffffffff-no-rj-mo'},\n    'high': {'url': 'https://yt3.ggpht.com/uHMQeINNFFM8rEPXgGL_2ft0N16KFjB4orZrbDWH3tXJj4Xz5deQFRRgBD5CYbdkw8-hc7UH=s800-c-k-c0xffffffff-no-rj-mo'}},\n   'channelTitle': 'M1',\n   'liveBroadcastContent': 'none',\n   'publishTime': '2008-10-19T06:02:35Z'}},\n {'kind': 'youtube#searchResult',\n  'etag': '5CQKZnu2DCNYqmIsLTUyztjaiXs',\n  'id': {'kind': 'youtube#channel', 'channelId': 'UCr2_NJSgUFrg9sp6UyJ89lA'},\n  'snippet': {'publishedAt': '2014-04-30T13:20:17Z',\n   'channelId': 'UCr2_NJSgUFrg9sp6UyJ89lA',\n   'title': 'GlesgaGreg',\n   'description': '',\n   'thumbnails': {'default': {'url': 'https://yt3.ggpht.com/ytc/AKedOLRGDYm9otrN4lonzNXipsanBk80Px51VMBTtXRi=s88-c-k-c0xffffffff-no-rj-mo'},\n    'medium': {'url': 'https://yt3.ggpht.com/ytc/AKedOLRGDYm9otrN4lonzNXipsanBk80Px51VMBTtXRi=s240-c-k-c0xffffffff-no-rj-mo'},\n    'high': {'url': 'https://yt3.ggpht.com/ytc/AKedOLRGDYm9otrN4lonzNXipsanBk80Px51VMBTtXRi=s800-c-k-c0xffffffff-no-rj-mo'}},\n   'channelTitle': 'GlesgaGreg',\n   'liveBroadcastContent': 'upcoming',\n   'publishTime': '2014-04-30T13:20:17Z'}},\n {'kind': 'youtube#searchResult',\n  'etag': 'svK_2gvD5cTPggB5sjxPx3TR_X4',\n  'id': {'kind': 'youtube#channel', 'channelId': 'UCx9ZRT1reuSqIMQA1zDs4Dw'},\n  'snippet': {'publishedAt': '2020-03-27T09:41:47Z',\n   'channelId': 'UCx9ZRT1reuSqIMQA1zDs4Dw',\n   'title': 'My name is Murphy',\n   'description': 'Чао, ребята, меня зовут Мёрфи, и я буду радовать вас различными видео по игровой тематике. Если вам понравилось или ...',\n   'thumbnails': {'default': {'url': 'https://yt3.ggpht.com/ytc/AKedOLTs9nUEz2J9Yz_6d-twGVeAFyfolFraqK7mL5lk=s88-c-k-c0xffffffff-no-rj-mo'},\n    'medium': {'url': 'https://yt3.ggpht.com/ytc/AKedOLTs9nUEz2J9Yz_6d-twGVeAFyfolFraqK7mL5lk=s240-c-k-c0xffffffff-no-rj-mo'},\n    'high': {'url': 'https://yt3.ggpht.com/ytc/AKedOLTs9nUEz2J9Yz_6d-twGVeAFyfolFraqK7mL5lk=s800-c-k-c0xffffffff-no-rj-mo'}},\n   'channelTitle': 'My name is Murphy',\n   'liveBroadcastContent': 'none',\n   'publishTime': '2020-03-27T09:41:47Z'}},\n {'kind': 'youtube#searchResult',\n  'etag': 'Bzw1lxHHTmplpJcA7_AtMNxUolE',\n  'id': {'kind': 'youtube#channel', 'channelId': 'UCyOJvgCfJ_8UFg_8aROes5Q'},\n  'snippet': {'publishedAt': '2021-06-13T14:32:51Z',\n   'channelId': 'UCyOJvgCfJ_8UFg_8aROes5Q',\n   'title': 'Svpph1re Stream',\n   'description': 'Добро пожаловать, я начинающий стример , данный канал создан у меня исключительно для стримов , но есть и другой ...',\n   'thumbnails': {'default': {'url': 'https://yt3.ggpht.com/EWHa73PT0ec_etoLOko9j1bgSvXx-9JY2_m-X-qeQct6gIOwYJOxSGNWDgXaom7QtErLK_Q2=s88-c-k-c0xffffffff-no-rj-mo'},\n    'medium': {'url': 'https://yt3.ggpht.com/EWHa73PT0ec_etoLOko9j1bgSvXx-9JY2_m-X-qeQct6gIOwYJOxSGNWDgXaom7QtErLK_Q2=s240-c-k-c0xffffffff-no-rj-mo'},\n    'high': {'url': 'https://yt3.ggpht.com/EWHa73PT0ec_etoLOko9j1bgSvXx-9JY2_m-X-qeQct6gIOwYJOxSGNWDgXaom7QtErLK_Q2=s800-c-k-c0xffffffff-no-rj-mo'}},\n   'channelTitle': 'Svpph1re Stream',\n   'liveBroadcastContent': 'upcoming',\n   'publishTime': '2021-06-13T14:32:51Z'}},\n {'kind': 'youtube#searchResult',\n  'etag': '2EoC7LEoB2pYP5lfI0E_c5dh-f0',\n  'id': {'kind': 'youtube#channel', 'channelId': 'UCL0WzDPY69_0-jQaBql6rzw'},\n  'snippet': {'publishedAt': '2016-07-18T19:50:03Z',\n   'channelId': 'UCL0WzDPY69_0-jQaBql6rzw',\n   'title': 'PROgamerX',\n   'description': 'Хай! Нас зовут PROgamerX и Yan Black, мы контент мейкеры, делаем обзоры на разные игры Android / iOS, PS4, PS5.',\n   'thumbnails': {'default': {'url': 'https://yt3.ggpht.com/R25KxfZj9p_pWWnLHh0o01ZIxkDYsmhwVXCYnuj1IxZ6iYs1PICqCmT_6pPJM05dNkNc7q-psA=s88-c-k-c0xffffffff-no-rj-mo'},\n    'medium': {'url': 'https://yt3.ggpht.com/R25KxfZj9p_pWWnLHh0o01ZIxkDYsmhwVXCYnuj1IxZ6iYs1PICqCmT_6pPJM05dNkNc7q-psA=s240-c-k-c0xffffffff-no-rj-mo'},\n    'high': {'url': 'https://yt3.ggpht.com/R25KxfZj9p_pWWnLHh0o01ZIxkDYsmhwVXCYnuj1IxZ6iYs1PICqCmT_6pPJM05dNkNc7q-psA=s800-c-k-c0xffffffff-no-rj-mo'}},\n   'channelTitle': 'PROgamerX',\n   'liveBroadcastContent': 'upcoming',\n   'publishTime': '2016-07-18T19:50:03Z'}},\n {'kind': 'youtube#searchResult',\n  'etag': '0Cg7YDh5aTTlVk15J2IvxaGKSSU',\n  'id': {'kind': 'youtube#channel', 'channelId': 'UCDlqU9zFygBD-hTexlp_YNg'},\n  'snippet': {'publishedAt': '2011-11-30T15:41:30Z',\n   'channelId': 'UCDlqU9zFygBD-hTexlp_YNg',\n   'title': 'Regolas',\n   'description': 'Изначально рассказывал о Warcraft, но постепенно эта тема народу надоела, потому по сюжетам игр видео реже выходят.',\n   'thumbnails': {'default': {'url': 'https://yt3.ggpht.com/ytc/AKedOLTnpY_GvdL53UKQ69EYS0b00osKLTf9TxHosElg9w=s88-c-k-c0xffffffff-no-rj-mo'},\n    'medium': {'url': 'https://yt3.ggpht.com/ytc/AKedOLTnpY_GvdL53UKQ69EYS0b00osKLTf9TxHosElg9w=s240-c-k-c0xffffffff-no-rj-mo'},\n    'high': {'url': 'https://yt3.ggpht.com/ytc/AKedOLTnpY_GvdL53UKQ69EYS0b00osKLTf9TxHosElg9w=s800-c-k-c0xffffffff-no-rj-mo'}},\n   'channelTitle': 'Regolas',\n   'liveBroadcastContent': 'upcoming',\n   'publishTime': '2011-11-30T15:41:30Z'}},\n {'kind': 'youtube#searchResult',\n  'etag': 'p1bml9IbdCwtDoy1G6KxTez9HEA',\n  'id': {'kind': 'youtube#channel', 'channelId': 'UC3tRJ0AWrUU3ybd_2orYKLg'},\n  'snippet': {'publishedAt': '2014-09-07T17:22:44Z',\n   'channelId': 'UC3tRJ0AWrUU3ybd_2orYKLg',\n   'title': 'voiceofreason467',\n   'description': \"I talk about a variety of topics, from politics to video games to movies/shows. I'm pretty open minded to dialogue so feel free to ...\",\n   'thumbnails': {'default': {'url': 'https://yt3.ggpht.com/ytc/AKedOLTFA6kG4FSZa4N8h1q-sEC-CQyS3yLMzBzhe6NXVw=s88-c-k-c0xffffffff-no-rj-mo'},\n    'medium': {'url': 'https://yt3.ggpht.com/ytc/AKedOLTFA6kG4FSZa4N8h1q-sEC-CQyS3yLMzBzhe6NXVw=s240-c-k-c0xffffffff-no-rj-mo'},\n    'high': {'url': 'https://yt3.ggpht.com/ytc/AKedOLTFA6kG4FSZa4N8h1q-sEC-CQyS3yLMzBzhe6NXVw=s800-c-k-c0xffffffff-no-rj-mo'}},\n   'channelTitle': 'voiceofreason467',\n   'liveBroadcastContent': 'none',\n   'publishTime': '2014-09-07T17:22:44Z'}},\n {'kind': 'youtube#searchResult',\n  'etag': '9Li8HestAy8XAGgIJ1tefAYkVDA',\n  'id': {'kind': 'youtube#channel', 'channelId': 'UCIDRuvv0qrUkbiilXsPm9cQ'},\n  'snippet': {'publishedAt': '2009-09-03T21:34:33Z',\n   'channelId': 'UCIDRuvv0qrUkbiilXsPm9cQ',\n   'title': 'Serothel',\n   'description': '',\n   'thumbnails': {'default': {'url': 'https://yt3.ggpht.com/ytc/AKedOLRB9gUEYV26bFrxgqQ45eU20LZUgnMFaDgJzFuT=s88-c-k-c0xffffffff-no-rj-mo'},\n    'medium': {'url': 'https://yt3.ggpht.com/ytc/AKedOLRB9gUEYV26bFrxgqQ45eU20LZUgnMFaDgJzFuT=s240-c-k-c0xffffffff-no-rj-mo'},\n    'high': {'url': 'https://yt3.ggpht.com/ytc/AKedOLRB9gUEYV26bFrxgqQ45eU20LZUgnMFaDgJzFuT=s800-c-k-c0xffffffff-no-rj-mo'}},\n   'channelTitle': 'Serothel',\n   'liveBroadcastContent': 'upcoming',\n   'publishTime': '2009-09-03T21:34:33Z'}},\n {'kind': 'youtube#searchResult',\n  'etag': '-pbAx7SMbutFhMRuIxG85KfAA1s',\n  'id': {'kind': 'youtube#channel', 'channelId': 'UCqXzo9HcMOdm7_T9wdXV7ZA'},\n  'snippet': {'publishedAt': '2011-10-19T22:48:15Z',\n   'channelId': 'UCqXzo9HcMOdm7_T9wdXV7ZA',\n   'title': 'JokeR Games',\n   'description': 'Добро пожаловать на игровой канал - сообщества пофигистов \"iPofigist\" ! Ежедневные стримы, живое общение,море фана ...',\n   'thumbnails': {'default': {'url': 'https://yt3.ggpht.com/ytc/AKedOLTpY9Z3-bWHb-76vkaepiNHhtkKHeziDwhcDgA4hMY=s88-c-k-c0xffffffff-no-rj-mo'},\n    'medium': {'url': 'https://yt3.ggpht.com/ytc/AKedOLTpY9Z3-bWHb-76vkaepiNHhtkKHeziDwhcDgA4hMY=s240-c-k-c0xffffffff-no-rj-mo'},\n    'high': {'url': 'https://yt3.ggpht.com/ytc/AKedOLTpY9Z3-bWHb-76vkaepiNHhtkKHeziDwhcDgA4hMY=s800-c-k-c0xffffffff-no-rj-mo'}},\n   'channelTitle': 'JokeR Games',\n   'liveBroadcastContent': 'upcoming',\n   'publishTime': '2011-10-19T22:48:15Z'}}]"
     },
     "execution_count": 54,
     "metadata": {},
     "output_type": "execute_result"
    }
   ],
   "source": [
    "response['items']"
   ],
   "metadata": {
    "collapsed": false,
    "pycharm": {
     "name": "#%%\n"
    }
   }
  },
  {
   "cell_type": "code",
   "execution_count": null,
   "outputs": [],
   "source": [],
   "metadata": {
    "collapsed": false,
    "pycharm": {
     "name": "#%%\n"
    }
   }
  }
 ],
 "metadata": {
  "kernelspec": {
   "display_name": "Python 3",
   "language": "python",
   "name": "python3"
  },
  "language_info": {
   "codemirror_mode": {
    "name": "ipython",
    "version": 2
   },
   "file_extension": ".py",
   "mimetype": "text/x-python",
   "name": "python",
   "nbconvert_exporter": "python",
   "pygments_lexer": "ipython2",
   "version": "2.7.6"
  }
 },
 "nbformat": 4,
 "nbformat_minor": 0
}